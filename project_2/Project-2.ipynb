{
 "cells": [
  {
   "cell_type": "markdown",
   "id": "42289889-bd57-434e-9637-d3e354756316",
   "metadata": {
    "id": "42289889-bd57-434e-9637-d3e354756316"
   },
   "source": [
    "<center> <img src = https://raw.githubusercontent.com/AndreyRysistov/DatasetsForPandas/main/hh%20label.jpg alt=\"drawing\" style=\"width:400px;\">"
   ]
  },
  {
   "cell_type": "markdown",
   "id": "829cb75b-f14e-4ba8-9195-7ba929a7d656",
   "metadata": {
    "id": "829cb75b-f14e-4ba8-9195-7ba929a7d656",
    "tags": []
   },
   "source": [
    "# <center> Проект: Анализ вакансий из HeadHunter\n",
    "   "
   ]
  },
  {
   "cell_type": "markdown",
   "id": "76193a0b",
   "metadata": {},
   "source": [
    "### <center> Анализируем выборку вакансий относящихся к сфере IT."
   ]
  },
  {
   "cell_type": "code",
   "execution_count": 1,
   "id": "dccfde33-2452-43fb-a8a5-5c6ebc02a71d",
   "metadata": {
    "id": "dccfde33-2452-43fb-a8a5-5c6ebc02a71d"
   },
   "outputs": [],
   "source": [
    "import pandas as pd\n",
    "import psycopg2\n",
    "import numpy as np\n",
    "import matplotlib.pyplot as plt\n",
    "import seaborn as sns\n",
    "import plotly.express as px\n",
    "import plotly.graph_objects as go\n",
    "from IPython.display import Image\n",
    "import requests\n",
    "from io import BytesIO"
   ]
  },
  {
   "cell_type": "code",
   "execution_count": 2,
   "id": "86190d7b",
   "metadata": {},
   "outputs": [],
   "source": [
    "# Создаем соединение с базой данных PostgreSQL  \n",
    "connection = psycopg2.connect(  \n",
    "    dbname='project_sql',  \n",
    "    user='skillfactory',  \n",
    "    host='84.201.134.129',  \n",
    "    password='cCkxxLVrDE8EbvjueeMedPKt',  \n",
    "    port=5432  \n",
    ")  "
   ]
  },
  {
   "cell_type": "markdown",
   "id": "0dc6476b-7a00-44f1-ac93-6e3baed33a29",
   "metadata": {
    "id": "0dc6476b-7a00-44f1-ac93-6e3baed33a29"
   },
   "source": [
    "# Юнит 3. Предварительный анализ данных"
   ]
  },
  {
   "cell_type": "markdown",
   "id": "8ed9d6e5",
   "metadata": {},
   "source": [
    "# 3.1"
   ]
  },
  {
   "cell_type": "markdown",
   "id": "889782b6-8d1c-410e-8920-e57f27917c64",
   "metadata": {
    "id": "889782b6-8d1c-410e-8920-e57f27917c64"
   },
   "source": [
    "1. Напишите запрос, который посчитает количество вакансий в нашей базе (вакансии находятся в таблице vacancies)."
   ]
  },
  {
   "cell_type": "code",
   "execution_count": 3,
   "id": "3177daf9",
   "metadata": {},
   "outputs": [
    {
     "data": {
      "text/html": [
       "<div>\n",
       "<style scoped>\n",
       "    .dataframe tbody tr th:only-of-type {\n",
       "        vertical-align: middle;\n",
       "    }\n",
       "\n",
       "    .dataframe tbody tr th {\n",
       "        vertical-align: top;\n",
       "    }\n",
       "\n",
       "    .dataframe thead th {\n",
       "        text-align: right;\n",
       "    }\n",
       "</style>\n",
       "<table border=\"1\" class=\"dataframe\">\n",
       "  <thead>\n",
       "    <tr style=\"text-align: right;\">\n",
       "      <th></th>\n",
       "      <th>Количество_вакансий</th>\n",
       "    </tr>\n",
       "  </thead>\n",
       "  <tbody>\n",
       "    <tr>\n",
       "      <th>0</th>\n",
       "      <td>49197</td>\n",
       "    </tr>\n",
       "  </tbody>\n",
       "</table>\n",
       "</div>"
      ],
      "text/plain": [
       "   Количество_вакансий\n",
       "0                49197"
      ]
     },
     "execution_count": 3,
     "metadata": {},
     "output_type": "execute_result"
    }
   ],
   "source": [
    "# текст запроса\n",
    "cur = connection.cursor() # Создаем курсор для выполнения SQL-запроса\n",
    "\n",
    "# Считаем количество id вакансий и присваеваем алиас\n",
    "query = f'''SELECT\n",
    "                COUNT(id) AS Количество_вакансий \n",
    "            FROM vacancies\n",
    "'''\n",
    "cur.execute(query) # Выполняем запрос\n",
    "result = cur.fetchall() # Извлекаем все строки результата\n",
    "df_1 = pd.DataFrame(result, columns=[\"Количество_вакансий\"]) # Создаем DataFrame из результата  \n",
    "cur.close() # Закрываем курсор\n",
    "df_1"
   ]
  },
  {
   "cell_type": "markdown",
   "id": "6b738595",
   "metadata": {
    "id": "7mAwtsk4hEHY"
   },
   "source": [
    "**Ответ:**\n",
    "\n",
    "Общее количество вакансий в базе = 49197"
   ]
  },
  {
   "cell_type": "markdown",
   "id": "c3f53d4a",
   "metadata": {},
   "source": [
    "# 3.2"
   ]
  },
  {
   "cell_type": "markdown",
   "id": "b583485d-1f9e-494e-ada4-80ffff7c53d6",
   "metadata": {
    "id": "b583485d-1f9e-494e-ada4-80ffff7c53d6"
   },
   "source": [
    "2. Напишите запрос, который посчитает количество работодателей (таблица employers). "
   ]
  },
  {
   "cell_type": "code",
   "execution_count": 4,
   "id": "5408c52c-3407-4a63-b25b-1aafa2322d28",
   "metadata": {
    "id": "5408c52c-3407-4a63-b25b-1aafa2322d28"
   },
   "outputs": [
    {
     "data": {
      "text/html": [
       "<div>\n",
       "<style scoped>\n",
       "    .dataframe tbody tr th:only-of-type {\n",
       "        vertical-align: middle;\n",
       "    }\n",
       "\n",
       "    .dataframe tbody tr th {\n",
       "        vertical-align: top;\n",
       "    }\n",
       "\n",
       "    .dataframe thead th {\n",
       "        text-align: right;\n",
       "    }\n",
       "</style>\n",
       "<table border=\"1\" class=\"dataframe\">\n",
       "  <thead>\n",
       "    <tr style=\"text-align: right;\">\n",
       "      <th></th>\n",
       "      <th>Количество_работодателей</th>\n",
       "    </tr>\n",
       "  </thead>\n",
       "  <tbody>\n",
       "    <tr>\n",
       "      <th>0</th>\n",
       "      <td>23501</td>\n",
       "    </tr>\n",
       "  </tbody>\n",
       "</table>\n",
       "</div>"
      ],
      "text/plain": [
       "   Количество_работодателей\n",
       "0                     23501"
      ]
     },
     "execution_count": 4,
     "metadata": {},
     "output_type": "execute_result"
    }
   ],
   "source": [
    "# текст запроса\n",
    "cur = connection.cursor() # Создаем курсор для выполнения SQL-запроса \n",
    "\n",
    "# Считаем количество id работодателей и присваеваем алиас\n",
    "query = f'''SELECT\n",
    "                COUNT(id) AS Количество_работодателей\n",
    "            FROM employers\n",
    "'''\n",
    "cur.execute(query) # Выполняем запрос\n",
    "result = cur.fetchall() # Извлекаем все строки результата\n",
    "df_2 = pd.DataFrame(\n",
    "    result, columns=[\"Количество_работодателей\"]) # Создаем DataFrame из результата  \n",
    "cur.close() # Закрываем курсор\n",
    "df_2"
   ]
  },
  {
   "cell_type": "markdown",
   "id": "363ead8a",
   "metadata": {
    "id": "jVL4eshKhdqc"
   },
   "source": [
    "**Ответ:**\n",
    "\n",
    "Общее количество работодателей = 23501"
   ]
  },
  {
   "cell_type": "markdown",
   "id": "34b620f3",
   "metadata": {},
   "source": [
    "# 3.3"
   ]
  },
  {
   "cell_type": "markdown",
   "id": "a2bfff1f-c975-4bf6-84be-2185d79dcb76",
   "metadata": {
    "id": "a2bfff1f-c975-4bf6-84be-2185d79dcb76"
   },
   "source": [
    "3. Посчитайте с помощью запроса количество регионов (таблица areas)."
   ]
  },
  {
   "cell_type": "code",
   "execution_count": 5,
   "id": "1m8QJwBYhey6",
   "metadata": {
    "id": "1m8QJwBYhey6"
   },
   "outputs": [
    {
     "data": {
      "text/html": [
       "<div>\n",
       "<style scoped>\n",
       "    .dataframe tbody tr th:only-of-type {\n",
       "        vertical-align: middle;\n",
       "    }\n",
       "\n",
       "    .dataframe tbody tr th {\n",
       "        vertical-align: top;\n",
       "    }\n",
       "\n",
       "    .dataframe thead th {\n",
       "        text-align: right;\n",
       "    }\n",
       "</style>\n",
       "<table border=\"1\" class=\"dataframe\">\n",
       "  <thead>\n",
       "    <tr style=\"text-align: right;\">\n",
       "      <th></th>\n",
       "      <th>Количество_городов</th>\n",
       "    </tr>\n",
       "  </thead>\n",
       "  <tbody>\n",
       "    <tr>\n",
       "      <th>0</th>\n",
       "      <td>1362</td>\n",
       "    </tr>\n",
       "  </tbody>\n",
       "</table>\n",
       "</div>"
      ],
      "text/plain": [
       "   Количество_городов\n",
       "0                1362"
      ]
     },
     "execution_count": 5,
     "metadata": {},
     "output_type": "execute_result"
    }
   ],
   "source": [
    "# текст запроса\n",
    "cur = connection.cursor() # Создаем курсор для выполнения SQL-запроса \n",
    "\n",
    "# Считаем количество id городов и присваеваем алиас\n",
    "query = f'''SELECT\n",
    "                COUNT(id) AS Количество_городов\n",
    "            FROM areas\n",
    "'''\n",
    "cur.execute(query) # Выполняем запрос\n",
    "result = cur.fetchall() # Извлекаем все строки результата\n",
    "df_3 = pd.DataFrame(result, columns=[\"Количество_городов\"]) # Создаем DataFrame из результата  \n",
    "cur.close() # Закрываем курсор\n",
    "df_3"
   ]
  },
  {
   "cell_type": "markdown",
   "id": "5e42bf66",
   "metadata": {
    "id": "EZsn9tlfhe7f"
   },
   "source": [
    "**Ответ:**\n",
    "\n",
    "Общее количество регионов = 1362"
   ]
  },
  {
   "cell_type": "markdown",
   "id": "99971f6f",
   "metadata": {},
   "source": [
    "# 3.4"
   ]
  },
  {
   "cell_type": "markdown",
   "id": "41bb59f3-53cc-4a67-a5bc-bedf573955e4",
   "metadata": {
    "id": "41bb59f3-53cc-4a67-a5bc-bedf573955e4"
   },
   "source": [
    "4. Посчитайте с помощью запроса количество сфер деятельности в базе (таблица industries)."
   ]
  },
  {
   "cell_type": "code",
   "execution_count": 6,
   "id": "d286cf4c-707b-4cd2-9190-7ab3587d04a1",
   "metadata": {
    "id": "d286cf4c-707b-4cd2-9190-7ab3587d04a1"
   },
   "outputs": [
    {
     "data": {
      "text/html": [
       "<div>\n",
       "<style scoped>\n",
       "    .dataframe tbody tr th:only-of-type {\n",
       "        vertical-align: middle;\n",
       "    }\n",
       "\n",
       "    .dataframe tbody tr th {\n",
       "        vertical-align: top;\n",
       "    }\n",
       "\n",
       "    .dataframe thead th {\n",
       "        text-align: right;\n",
       "    }\n",
       "</style>\n",
       "<table border=\"1\" class=\"dataframe\">\n",
       "  <thead>\n",
       "    <tr style=\"text-align: right;\">\n",
       "      <th></th>\n",
       "      <th>Количество_сфер_деятельности</th>\n",
       "    </tr>\n",
       "  </thead>\n",
       "  <tbody>\n",
       "    <tr>\n",
       "      <th>0</th>\n",
       "      <td>294</td>\n",
       "    </tr>\n",
       "  </tbody>\n",
       "</table>\n",
       "</div>"
      ],
      "text/plain": [
       "   Количество_сфер_деятельности\n",
       "0                           294"
      ]
     },
     "execution_count": 6,
     "metadata": {},
     "output_type": "execute_result"
    }
   ],
   "source": [
    "# текст запроса\n",
    "cur = connection.cursor() # Создаем курсор для выполнения SQL-запроса \n",
    "\n",
    "# Считаем количество id сфер деятельности и присваеваем алиас\n",
    "query = f'''SELECT\n",
    "                COUNT(id) AS Количество_сфер_деятельности\n",
    "            FROM industries\n",
    "'''\n",
    "cur.execute(query) # Выполняем запрос\n",
    "result = cur.fetchall() # Извлекаем все строки результата\n",
    "df_4 = pd.DataFrame(\n",
    "    result, columns=[\"Количество_сфер_деятельности\"]) # Создаем DataFrame из результата  \n",
    "cur.close() # Закрываем курсор\n",
    "df_4"
   ]
  },
  {
   "cell_type": "markdown",
   "id": "43b63ad7",
   "metadata": {
    "id": "JYAaoZ4qhfzW"
   },
   "source": [
    "**Ответ:**\n",
    "\n",
    "Общее количество сфер деятельности = 294"
   ]
  },
  {
   "cell_type": "markdown",
   "id": "9a8a2181-6914-448b-85f1-38f5f18b8a93",
   "metadata": {
    "id": "9a8a2181-6914-448b-85f1-38f5f18b8a93"
   },
   "source": [
    "***"
   ]
  },
  {
   "cell_type": "markdown",
   "id": "a1b6a124",
   "metadata": {},
   "source": [
    "###### <center> Визуализация по предварительному анализу данных"
   ]
  },
  {
   "cell_type": "code",
   "execution_count": 7,
   "id": "1eb83807",
   "metadata": {},
   "outputs": [
    {
     "data": {
      "text/html": [
       "<div>\n",
       "<style scoped>\n",
       "    .dataframe tbody tr th:only-of-type {\n",
       "        vertical-align: middle;\n",
       "    }\n",
       "\n",
       "    .dataframe tbody tr th {\n",
       "        vertical-align: top;\n",
       "    }\n",
       "\n",
       "    .dataframe thead th {\n",
       "        text-align: right;\n",
       "    }\n",
       "</style>\n",
       "<table border=\"1\" class=\"dataframe\">\n",
       "  <thead>\n",
       "    <tr style=\"text-align: right;\">\n",
       "      <th></th>\n",
       "      <th>Количество_вакансий</th>\n",
       "      <th>Количество_работодателей</th>\n",
       "      <th>Количество_городов</th>\n",
       "      <th>Количество_сфер_деятельности</th>\n",
       "    </tr>\n",
       "  </thead>\n",
       "  <tbody>\n",
       "    <tr>\n",
       "      <th>0</th>\n",
       "      <td>49197</td>\n",
       "      <td>23501</td>\n",
       "      <td>1362</td>\n",
       "      <td>294</td>\n",
       "    </tr>\n",
       "  </tbody>\n",
       "</table>\n",
       "</div>"
      ],
      "text/plain": [
       "   Количество_вакансий  Количество_работодателей  Количество_городов  \\\n",
       "0                49197                     23501                1362   \n",
       "\n",
       "   Количество_сфер_деятельности  \n",
       "0                           294  "
      ]
     },
     "execution_count": 7,
     "metadata": {},
     "output_type": "execute_result"
    }
   ],
   "source": [
    "# Конкатенируем полученые запросы в единый DataFrame\n",
    "\n",
    "df_unit_total = pd.concat([df_1, df_2, df_3, df_4], axis=1)\n",
    "df_unit_total"
   ]
  },
  {
   "cell_type": "code",
   "execution_count": 8,
   "id": "995b9964",
   "metadata": {},
   "outputs": [
    {
     "data": {
      "image/jpeg": "[encoded data removed]",
      "text/plain": [
       "<IPython.core.display.Image object>"
      ]
     },
     "execution_count": 8,
     "metadata": {},
     "output_type": "execute_result"
    }
   ],
   "source": [
    "# Создаем столбчатую диаграмму с использованием библиотеки Plotly  \n",
    "df_unit_3 = df_unit_total.T.reset_index() # Транспонируем DataFrame, чтобы строки стали столбцами\n",
    "df_unit_3.columns = ['Column', 'Value'] # Переименовываем столбцы\n",
    "fig = px.bar(df_unit_3, x='Column', y='Value') # Создаем столбчатую диаграмму\n",
    "\n",
    "fig.update_layout(\n",
    "    title=\"Диаграмма количества вакансий, работодателей, регионов, сфер деятельности работодателя\",\n",
    "    title_x = 0.5,\n",
    "    width=1000,\n",
    "    height=800,\n",
    "    xaxis_title=\"Варианты\",\n",
    "    yaxis_title=\"Количество\",\n",
    "    legend=dict(x=0, orientation=\"h\"),\n",
    "    margin=dict(l=0, r=0, t=50, b=0) # Параметры вывода диаграммы\n",
    ")\n",
    "#fig.show()\n",
    "\n",
    "fig.write_image('Plotly/figure_1.jpg') # Сохраняем график в файл    \n",
    "Image(data='Plotly/figure_1.jpg') # Отображаем график"
   ]
  },
  {
   "cell_type": "markdown",
   "id": "5645714c",
   "metadata": {
    "id": "be4e9bd3-a4db-4a20-82fb-6b02fc2957e0"
   },
   "source": [
    "### <center>Выводы по предварительному анализу данных\n",
    "\n",
    "В результате предварительного анализа данных, проведенного в рамках проекта, были получены следующие результаты:\n",
    "\n",
    "* Общее количество вакансий в базе составляет 49,197. Это позволяет нам иметь достаточно большой объем данных для дальнейшего исследования и анализа вакансий.\n",
    "    \n",
    "\n",
    "* В базе присутствует 23,501 работодатель. Это означает, что есть значительное количество компаний, которые размещают вакансии в сфере IT, что предоставляет широкий выбор работодателей для потенциальных соискателей.\n",
    "    \n",
    "\n",
    "* В базе данных содержится информация о 1,362 регионах. Это позволяет нам рассмотреть разнообразие географических местоположений, в которых предлагаются вакансии в сфере IT.\n",
    "\n",
    "    \n",
    "* Общее количество сфер деятельности в базе составляет 294. Это указывает на разнообразие отраслей, в которых требуются специалисты по обработке данных, програмисты, аналитике, системные администраторы и др.\n",
    "    \n",
    "\n",
    "**Исходя из полученных данных, можно сделать вывод**, что вакансии представлены в большом количестве, с разнообразием работодателей, географическими локациями и сферами деятельности. Это предоставляет потенциальным соискателям возможность выбора и исследования различных предложений на рынке труда."
   ]
  },
  {
   "cell_type": "markdown",
   "id": "8d62a9f3-f64e-4fe7-bdac-c4dffa16155e",
   "metadata": {
    "id": "8d62a9f3-f64e-4fe7-bdac-c4dffa16155e"
   },
   "source": [
    "# Юнит 4. Детальный анализ вакансий"
   ]
  },
  {
   "cell_type": "markdown",
   "id": "8f158c3e",
   "metadata": {},
   "source": [
    "# 4.1"
   ]
  },
  {
   "cell_type": "markdown",
   "id": "93053d3d-b284-481a-9cf7-012d7014c0e0",
   "metadata": {
    "id": "93053d3d-b284-481a-9cf7-012d7014c0e0"
   },
   "source": [
    "1. Напишите запрос, который позволит узнать, сколько (cnt) вакансий в каждом регионе (area).\n",
    "Отсортируйте по количеству вакансий в порядке убывания."
   ]
  },
  {
   "cell_type": "code",
   "execution_count": 9,
   "id": "3f069da6-fdc9-4ae7-b514-fafe2675efd3",
   "metadata": {
    "id": "3f069da6-fdc9-4ae7-b514-fafe2675efd3"
   },
   "outputs": [
    {
     "data": {
      "text/html": [
       "<div>\n",
       "<style scoped>\n",
       "    .dataframe tbody tr th:only-of-type {\n",
       "        vertical-align: middle;\n",
       "    }\n",
       "\n",
       "    .dataframe tbody tr th {\n",
       "        vertical-align: top;\n",
       "    }\n",
       "\n",
       "    .dataframe thead th {\n",
       "        text-align: right;\n",
       "    }\n",
       "</style>\n",
       "<table border=\"1\" class=\"dataframe\">\n",
       "  <thead>\n",
       "    <tr style=\"text-align: right;\">\n",
       "      <th></th>\n",
       "      <th>Название_города</th>\n",
       "      <th>Количество_вакансий</th>\n",
       "    </tr>\n",
       "  </thead>\n",
       "  <tbody>\n",
       "    <tr>\n",
       "      <th>0</th>\n",
       "      <td>Москва</td>\n",
       "      <td>5333</td>\n",
       "    </tr>\n",
       "    <tr>\n",
       "      <th>1</th>\n",
       "      <td>Санкт-Петербург</td>\n",
       "      <td>2851</td>\n",
       "    </tr>\n",
       "    <tr>\n",
       "      <th>2</th>\n",
       "      <td>Минск</td>\n",
       "      <td>2112</td>\n",
       "    </tr>\n",
       "    <tr>\n",
       "      <th>3</th>\n",
       "      <td>Новосибирск</td>\n",
       "      <td>2006</td>\n",
       "    </tr>\n",
       "    <tr>\n",
       "      <th>4</th>\n",
       "      <td>Алматы</td>\n",
       "      <td>1892</td>\n",
       "    </tr>\n",
       "  </tbody>\n",
       "</table>\n",
       "</div>"
      ],
      "text/plain": [
       "   Название_города  Количество_вакансий\n",
       "0           Москва                 5333\n",
       "1  Санкт-Петербург                 2851\n",
       "2            Минск                 2112\n",
       "3      Новосибирск                 2006\n",
       "4           Алматы                 1892"
      ]
     },
     "execution_count": 9,
     "metadata": {},
     "output_type": "execute_result"
    }
   ],
   "source": [
    "# текст запроса\n",
    "cur = connection.cursor() # Создаем курсор для выполнения SQL-запроса\n",
    "\n",
    "# Считаем количество вакансий в городах и присваеваем алиас\n",
    "query = f'''SELECT\n",
    "                a.name AS Название_города,\n",
    "                COUNT(v.area_id) AS Количество_вакансий\n",
    "            FROM vacancies v\n",
    "            JOIN areas a ON v.area_id = a.id /*Соединяем таблицы по общему id*/\n",
    "            GROUP BY a.name /*Группируем по названию города*/\n",
    "            ORDER BY COUNT(v.area_id) DESC /*Сортируем количество по убыванию*/\n",
    "            LIMIT 5 /*Выводим первые 5 строк*/\n",
    "'''\n",
    "cur.execute(query) # Выполняем запрос\n",
    "result = cur.fetchall() # Извлекаем все строки результата\n",
    "df_5 = pd.DataFrame(\n",
    "    result, columns=[\"Название_города\", \"Количество_вакансий\"]) #Создаем DataFrame из результата  \n",
    "cur.close() # Закрываем курсор\n",
    "df_5"
   ]
  },
  {
   "cell_type": "markdown",
   "id": "b41ee721",
   "metadata": {
    "id": "P7QL86hrjhRJ"
   },
   "source": [
    "**Ответ:**\n",
    "\n",
    "Москва, Санкт-Петербург, Минск, Новосибирск, Алматы."
   ]
  },
  {
   "cell_type": "markdown",
   "id": "73aeb9bc",
   "metadata": {},
   "source": [
    "###### <center>Визуализация \"Соотношение вакансий в городах\""
   ]
  },
  {
   "cell_type": "code",
   "execution_count": 10,
   "id": "f66c0f82",
   "metadata": {},
   "outputs": [
    {
     "data": {
      "image/jpeg": "[encoded data removed]",
      "text/plain": [
       "<IPython.core.display.Image object>"
      ]
     },
     "execution_count": 10,
     "metadata": {},
     "output_type": "execute_result"
    }
   ],
   "source": [
    "# Создаем столбчатую диаграмму с использованием библиотеки Plotly  \n",
    "fig = px.bar(df_5, x='Название_города', y='Количество_вакансий') \n",
    "fig.update_layout(\n",
    "    title=\"Соотношение вакансий в городах\",\n",
    "    title_x = 0.5,\n",
    "    width=1000,\n",
    "    height=800,\n",
    "    xaxis_title=\"Города\",\n",
    "    yaxis_title=\"Количество\",\n",
    "    legend=dict(x=0, orientation=\"h\"),\n",
    "    margin=dict(l=0, r=0, t=50, b=0) # Параметры вывода диаграммы\n",
    ")\n",
    "#fig.show()\n",
    "\n",
    "fig.write_image('Plotly/figure_1.jpg') # Сохраняем график в файл    \n",
    "Image(data='Plotly/figure_1.jpg') # Отображаем график"
   ]
  },
  {
   "cell_type": "markdown",
   "id": "0f029668",
   "metadata": {},
   "source": [
    "# 4.2"
   ]
  },
  {
   "cell_type": "markdown",
   "id": "4266f0b6-1646-492a-88b4-2f6a46502135",
   "metadata": {
    "id": "4266f0b6-1646-492a-88b4-2f6a46502135"
   },
   "source": [
    "2. Напишите запрос, чтобы определить у какого количества вакансий заполнено хотя бы одно из двух полей с зарплатой."
   ]
  },
  {
   "cell_type": "code",
   "execution_count": 11,
   "id": "0c44b350-72eb-4d65-8b54-a1fc449ba9fd",
   "metadata": {
    "id": "0c44b350-72eb-4d65-8b54-a1fc449ba9fd"
   },
   "outputs": [
    {
     "data": {
      "text/html": [
       "<div>\n",
       "<style scoped>\n",
       "    .dataframe tbody tr th:only-of-type {\n",
       "        vertical-align: middle;\n",
       "    }\n",
       "\n",
       "    .dataframe tbody tr th {\n",
       "        vertical-align: top;\n",
       "    }\n",
       "\n",
       "    .dataframe thead th {\n",
       "        text-align: right;\n",
       "    }\n",
       "</style>\n",
       "<table border=\"1\" class=\"dataframe\">\n",
       "  <thead>\n",
       "    <tr style=\"text-align: right;\">\n",
       "      <th></th>\n",
       "      <th>Количество_вакансий_с_зарплатой</th>\n",
       "    </tr>\n",
       "  </thead>\n",
       "  <tbody>\n",
       "    <tr>\n",
       "      <th>0</th>\n",
       "      <td>24073</td>\n",
       "    </tr>\n",
       "  </tbody>\n",
       "</table>\n",
       "</div>"
      ],
      "text/plain": [
       "   Количество_вакансий_с_зарплатой\n",
       "0                            24073"
      ]
     },
     "execution_count": 11,
     "metadata": {},
     "output_type": "execute_result"
    }
   ],
   "source": [
    "# текст запроса\n",
    "cur = connection.cursor() # Создаем курсор для выполнения SQL-запроса\n",
    "\n",
    "# Считаем количество вакансий с зарплатой и присваеваем алиас\n",
    "query = f'''SELECT\n",
    "                COUNT(id) AS Количество_вакансий_с_зарплатой\n",
    "            FROM vacancies\n",
    "            WHERE salary_from IS NOT NULL /*Проверяем пустые значений в зарплатах*/\n",
    "            OR salary_to IS NOT NULL           \n",
    "'''\n",
    "cur.execute(query) # Выполняем запрос\n",
    "result = cur.fetchall() # Извлекаем все строки результата\n",
    "df_6 = pd.DataFrame(\n",
    "    result, columns=[\"Количество_вакансий_с_зарплатой\"]) # Создаем DataFrame из результата  \n",
    "cur.close() # Закрываем курсор\n",
    "df_6"
   ]
  },
  {
   "cell_type": "markdown",
   "id": "ea429399",
   "metadata": {
    "id": "rhvwaMDkoWTi"
   },
   "source": [
    "**Ответ:**\n",
    "\n",
    "Количество вакансий с хотя бы одним заполненым полем зарплаты = 24073 вакансий."
   ]
  },
  {
   "cell_type": "markdown",
   "id": "71d0a47e",
   "metadata": {},
   "source": [
    "###### <center>Визуализация \"Сравнение общего количества вакансий и вакансий имеющих указанную зарплату\""
   ]
  },
  {
   "cell_type": "code",
   "execution_count": 12,
   "id": "ca0155a2",
   "metadata": {},
   "outputs": [],
   "source": [
    "cur = connection.cursor() # Создаем курсор для выполнения SQL-запроса\n",
    "\n",
    "# Считаем Общее количество вакансий и присваеваем алиас\n",
    "query = f'''SELECT\n",
    "                    COUNT(id) AS Общее_количество_вакансий\n",
    "                FROM vacancies                     \n",
    "'''\n",
    "cur.execute(query) # Выполняем запрос\n",
    "result = cur.fetchall() # Извлекаем все строки результата\n",
    "df_6_1 = pd.DataFrame(\n",
    "    result, columns=[\"Общее_количество_вакансий\"]) # Создаем DataFrame из результата  \n",
    "cur.close() # Закрываем курсор"
   ]
  },
  {
   "cell_type": "code",
   "execution_count": 13,
   "id": "da39f174",
   "metadata": {},
   "outputs": [
    {
     "data": {
      "text/html": [
       "<div>\n",
       "<style scoped>\n",
       "    .dataframe tbody tr th:only-of-type {\n",
       "        vertical-align: middle;\n",
       "    }\n",
       "\n",
       "    .dataframe tbody tr th {\n",
       "        vertical-align: top;\n",
       "    }\n",
       "\n",
       "    .dataframe thead th {\n",
       "        text-align: right;\n",
       "    }\n",
       "</style>\n",
       "<table border=\"1\" class=\"dataframe\">\n",
       "  <thead>\n",
       "    <tr style=\"text-align: right;\">\n",
       "      <th></th>\n",
       "      <th>Количество_вакансий_с_зарплатой</th>\n",
       "      <th>Общее_количество_вакансий</th>\n",
       "    </tr>\n",
       "  </thead>\n",
       "  <tbody>\n",
       "    <tr>\n",
       "      <th>0</th>\n",
       "      <td>24073</td>\n",
       "      <td>49197</td>\n",
       "    </tr>\n",
       "  </tbody>\n",
       "</table>\n",
       "</div>"
      ],
      "text/plain": [
       "   Количество_вакансий_с_зарплатой  Общее_количество_вакансий\n",
       "0                            24073                      49197"
      ]
     },
     "execution_count": 13,
     "metadata": {},
     "output_type": "execute_result"
    }
   ],
   "source": [
    "# Конкатенируем полученые запросы в единый DataFrame\n",
    "df_6_total = pd.concat([df_6, df_6_1], axis=1)\n",
    "df_6_total"
   ]
  },
  {
   "cell_type": "code",
   "execution_count": 14,
   "id": "7b17cb67",
   "metadata": {},
   "outputs": [
    {
     "data": {
      "image/jpeg": "[encoded data removed]",
      "text/plain": [
       "<IPython.core.display.Image object>"
      ]
     },
     "execution_count": 14,
     "metadata": {},
     "output_type": "execute_result"
    }
   ],
   "source": [
    "# Создаем столбчатую диаграмму с использованием библиотеки Plotly  \n",
    "df_unit_4 = df_6_total.T.reset_index() # Транспонируем DataFrame, чтобы строки стали столбцами\n",
    "df_unit_4.columns = ['Column', 'Value'] # Переименовываем столбцы\n",
    "fig = px.bar(df_unit_4, x='Column', y='Value') # Создаем столбчатую диаграмму\n",
    "fig.update_layout(\n",
    "    title=\"Сравнение общего количества вакансий и вакансий имеющих указанную зарплату\",\n",
    "    title_x = 0.5,\n",
    "    width=1000,\n",
    "    height=800,\n",
    "    xaxis_title=\"Варианты\",\n",
    "    yaxis_title=\"Колличество\",\n",
    "    legend=dict(x=0, orientation=\"h\"),\n",
    "    margin=dict(l=0, r=0, t=50, b=0) # Параметры вывода диаграммы\n",
    ")\n",
    "#fig.show()\n",
    "\n",
    "fig.write_image('Plotly/figure_1.jpg') # Сохраняем график в файл    \n",
    "Image(data='Plotly/figure_1.jpg') # Отображаем график"
   ]
  },
  {
   "cell_type": "markdown",
   "id": "50dc3d01",
   "metadata": {},
   "source": [
    "# 4.3"
   ]
  },
  {
   "cell_type": "markdown",
   "id": "635c4d5d-f323-4c66-b428-50a088120aa0",
   "metadata": {
    "id": "635c4d5d-f323-4c66-b428-50a088120aa0"
   },
   "source": [
    "3. Найдите средние значения для нижней и верхней границы зарплатной вилки. Округлите значения до целого."
   ]
  },
  {
   "cell_type": "code",
   "execution_count": 15,
   "id": "603cdbe4-0ec3-4106-8eaf-c73fcdd29165",
   "metadata": {
    "id": "603cdbe4-0ec3-4106-8eaf-c73fcdd29165"
   },
   "outputs": [
    {
     "data": {
      "text/html": [
       "<div>\n",
       "<style scoped>\n",
       "    .dataframe tbody tr th:only-of-type {\n",
       "        vertical-align: middle;\n",
       "    }\n",
       "\n",
       "    .dataframe tbody tr th {\n",
       "        vertical-align: top;\n",
       "    }\n",
       "\n",
       "    .dataframe thead th {\n",
       "        text-align: right;\n",
       "    }\n",
       "</style>\n",
       "<table border=\"1\" class=\"dataframe\">\n",
       "  <thead>\n",
       "    <tr style=\"text-align: right;\">\n",
       "      <th></th>\n",
       "      <th>Средняя_зарплата_нижняя_граница</th>\n",
       "      <th>Средняя_зарплата_верхняя_граница</th>\n",
       "    </tr>\n",
       "  </thead>\n",
       "  <tbody>\n",
       "    <tr>\n",
       "      <th>0</th>\n",
       "      <td>71065</td>\n",
       "      <td>110537</td>\n",
       "    </tr>\n",
       "  </tbody>\n",
       "</table>\n",
       "</div>"
      ],
      "text/plain": [
       "  Средняя_зарплата_нижняя_граница Средняя_зарплата_верхняя_граница\n",
       "0                           71065                           110537"
      ]
     },
     "execution_count": 15,
     "metadata": {},
     "output_type": "execute_result"
    }
   ],
   "source": [
    "# текст запроса\n",
    "cur = connection.cursor() # Создаем курсор для выполнения SQL-запроса\n",
    "\n",
    "# Считаем среднии границы зарплаты и присваеваем алиас\n",
    "query = f'''SELECT\n",
    "                ROUND(AVG(salary_from)) AS Средняя_зарплата_нижняя_граница,\n",
    "                ROUND(AVG(salary_to)) AS Средняя_зарплата_верхняя_граница\n",
    "            FROM vacancies\n",
    "'''\n",
    "cur.execute(query) # Выполняем запрос\n",
    "result = cur.fetchall() # Извлекаем все строки результата\n",
    "df_7 = pd.DataFrame(\n",
    "    result, columns=[\"Средняя_зарплата_нижняя_граница\", \"Средняя_зарплата_верхняя_граница\"]\n",
    "                    ) # Создаем DataFrame из результата  \n",
    "cur.close() # Закрываем курсор\n",
    "df_7"
   ]
  },
  {
   "cell_type": "markdown",
   "id": "347a7e82",
   "metadata": {
    "id": "pswpAb66ovZZ"
   },
   "source": [
    "**Ответ:**\n",
    "\n",
    "* Cредние значения нижней граници зарплатной вилки = 71065 руб.\n",
    "* Среднее значение верхней границы зарплатной вилки = 110537 руб."
   ]
  },
  {
   "cell_type": "markdown",
   "id": "d98f8b33",
   "metadata": {},
   "source": [
    "###### <center>Визуализация \"Диаграмма нижней и верхней границ зарплаты\""
   ]
  },
  {
   "cell_type": "code",
   "execution_count": 16,
   "id": "9b925b41",
   "metadata": {},
   "outputs": [
    {
     "data": {
      "image/jpeg": "[encoded data removed]",
      "text/plain": [
       "<IPython.core.display.Image object>"
      ]
     },
     "execution_count": 16,
     "metadata": {},
     "output_type": "execute_result"
    }
   ],
   "source": [
    "# Создаем столбчатую диаграмму с использованием библиотеки Plotly  \n",
    "df_7_total = df_7.T.reset_index() # Транспонируем DataFrame, чтобы строки стали столбцами\n",
    "df_7_total.columns = ['Column', 'Value'] # Переименовываем столбцы\n",
    "fig = px.bar(df_7_total, x='Column', y='Value') # Создаем столбчатую диаграмму\n",
    "fig.update_layout(\n",
    "    title=\"Диаграмма нижней и верхней границ зарплаты\",\n",
    "    title_x = 0.5,\n",
    "    width=1000,\n",
    "    height=800,\n",
    "    xaxis_title=\"Границы зарплаты\",\n",
    "    yaxis_title=\"Размер зарплаты в рублях\",\n",
    "    legend=dict(x=0, orientation=\"h\"),\n",
    "    margin=dict(l=0, r=0, t=50, b=0) # Параметры вывода диаграммы\n",
    ")\n",
    "#fig.show()\n",
    "\n",
    "fig.write_image('Plotly/figure_1.jpg') # Сохраняем график в файл    \n",
    "Image(data='Plotly/figure_1.jpg') # Отображаем график"
   ]
  },
  {
   "cell_type": "markdown",
   "id": "4d1bdc04",
   "metadata": {},
   "source": [
    "# 4.4"
   ]
  },
  {
   "cell_type": "markdown",
   "id": "f3fdaec9-5fd3-4260-9cf5-1d7406b628a5",
   "metadata": {
    "id": "f3fdaec9-5fd3-4260-9cf5-1d7406b628a5"
   },
   "source": [
    "4. Напишите запрос, который выведет количество вакансий для каждого сочетания типа рабочего графика (schedule) и типа трудоустройства (employment), используемого в вакансиях. Результат отсортируйте по убыванию количества.\n"
   ]
  },
  {
   "cell_type": "code",
   "execution_count": 17,
   "id": "1ea710ec-871b-431e-9462-c7d0fd87011b",
   "metadata": {
    "id": "1ea710ec-871b-431e-9462-c7d0fd87011b"
   },
   "outputs": [
    {
     "data": {
      "text/html": [
       "<div>\n",
       "<style scoped>\n",
       "    .dataframe tbody tr th:only-of-type {\n",
       "        vertical-align: middle;\n",
       "    }\n",
       "\n",
       "    .dataframe tbody tr th {\n",
       "        vertical-align: top;\n",
       "    }\n",
       "\n",
       "    .dataframe thead th {\n",
       "        text-align: right;\n",
       "    }\n",
       "</style>\n",
       "<table border=\"1\" class=\"dataframe\">\n",
       "  <thead>\n",
       "    <tr style=\"text-align: right;\">\n",
       "      <th></th>\n",
       "      <th>Тип_рабочего_графика</th>\n",
       "      <th>Тип_трудоустройства</th>\n",
       "      <th>Количество_вакансий</th>\n",
       "    </tr>\n",
       "  </thead>\n",
       "  <tbody>\n",
       "    <tr>\n",
       "      <th>0</th>\n",
       "      <td>Полный день</td>\n",
       "      <td>Полная занятость</td>\n",
       "      <td>35367</td>\n",
       "    </tr>\n",
       "    <tr>\n",
       "      <th>1</th>\n",
       "      <td>Удаленная работа</td>\n",
       "      <td>Полная занятость</td>\n",
       "      <td>7802</td>\n",
       "    </tr>\n",
       "    <tr>\n",
       "      <th>2</th>\n",
       "      <td>Гибкий график</td>\n",
       "      <td>Полная занятость</td>\n",
       "      <td>1593</td>\n",
       "    </tr>\n",
       "    <tr>\n",
       "      <th>3</th>\n",
       "      <td>Удаленная работа</td>\n",
       "      <td>Частичная занятость</td>\n",
       "      <td>1312</td>\n",
       "    </tr>\n",
       "    <tr>\n",
       "      <th>4</th>\n",
       "      <td>Сменный график</td>\n",
       "      <td>Полная занятость</td>\n",
       "      <td>940</td>\n",
       "    </tr>\n",
       "    <tr>\n",
       "      <th>5</th>\n",
       "      <td>Полный день</td>\n",
       "      <td>Стажировка</td>\n",
       "      <td>569</td>\n",
       "    </tr>\n",
       "    <tr>\n",
       "      <th>6</th>\n",
       "      <td>Вахтовый метод</td>\n",
       "      <td>Полная занятость</td>\n",
       "      <td>367</td>\n",
       "    </tr>\n",
       "    <tr>\n",
       "      <th>7</th>\n",
       "      <td>Полный день</td>\n",
       "      <td>Частичная занятость</td>\n",
       "      <td>347</td>\n",
       "    </tr>\n",
       "    <tr>\n",
       "      <th>8</th>\n",
       "      <td>Гибкий график</td>\n",
       "      <td>Частичная занятость</td>\n",
       "      <td>312</td>\n",
       "    </tr>\n",
       "    <tr>\n",
       "      <th>9</th>\n",
       "      <td>Полный день</td>\n",
       "      <td>Проектная работа</td>\n",
       "      <td>141</td>\n",
       "    </tr>\n",
       "    <tr>\n",
       "      <th>10</th>\n",
       "      <td>Удаленная работа</td>\n",
       "      <td>Проектная работа</td>\n",
       "      <td>133</td>\n",
       "    </tr>\n",
       "    <tr>\n",
       "      <th>11</th>\n",
       "      <td>Гибкий график</td>\n",
       "      <td>Стажировка</td>\n",
       "      <td>116</td>\n",
       "    </tr>\n",
       "    <tr>\n",
       "      <th>12</th>\n",
       "      <td>Сменный график</td>\n",
       "      <td>Частичная занятость</td>\n",
       "      <td>101</td>\n",
       "    </tr>\n",
       "    <tr>\n",
       "      <th>13</th>\n",
       "      <td>Удаленная работа</td>\n",
       "      <td>Стажировка</td>\n",
       "      <td>64</td>\n",
       "    </tr>\n",
       "    <tr>\n",
       "      <th>14</th>\n",
       "      <td>Гибкий график</td>\n",
       "      <td>Проектная работа</td>\n",
       "      <td>18</td>\n",
       "    </tr>\n",
       "    <tr>\n",
       "      <th>15</th>\n",
       "      <td>Сменный график</td>\n",
       "      <td>Стажировка</td>\n",
       "      <td>12</td>\n",
       "    </tr>\n",
       "    <tr>\n",
       "      <th>16</th>\n",
       "      <td>Вахтовый метод</td>\n",
       "      <td>Проектная работа</td>\n",
       "      <td>2</td>\n",
       "    </tr>\n",
       "    <tr>\n",
       "      <th>17</th>\n",
       "      <td>Сменный график</td>\n",
       "      <td>Проектная работа</td>\n",
       "      <td>1</td>\n",
       "    </tr>\n",
       "  </tbody>\n",
       "</table>\n",
       "</div>"
      ],
      "text/plain": [
       "   Тип_рабочего_графика  Тип_трудоустройства  Количество_вакансий\n",
       "0           Полный день     Полная занятость                35367\n",
       "1      Удаленная работа     Полная занятость                 7802\n",
       "2         Гибкий график     Полная занятость                 1593\n",
       "3      Удаленная работа  Частичная занятость                 1312\n",
       "4        Сменный график     Полная занятость                  940\n",
       "5           Полный день           Стажировка                  569\n",
       "6        Вахтовый метод     Полная занятость                  367\n",
       "7           Полный день  Частичная занятость                  347\n",
       "8         Гибкий график  Частичная занятость                  312\n",
       "9           Полный день     Проектная работа                  141\n",
       "10     Удаленная работа     Проектная работа                  133\n",
       "11        Гибкий график           Стажировка                  116\n",
       "12       Сменный график  Частичная занятость                  101\n",
       "13     Удаленная работа           Стажировка                   64\n",
       "14        Гибкий график     Проектная работа                   18\n",
       "15       Сменный график           Стажировка                   12\n",
       "16       Вахтовый метод     Проектная работа                    2\n",
       "17       Сменный график     Проектная работа                    1"
      ]
     },
     "execution_count": 17,
     "metadata": {},
     "output_type": "execute_result"
    }
   ],
   "source": [
    "# текст запроса\n",
    "cur = connection.cursor() # Создаем курсор для выполнения SQL-запроса\n",
    "\n",
    "# Считаем количество вакансий для каждого типа рабочего графика и трудоустройства\n",
    "query = f'''SELECT\n",
    "                schedule AS Тип_рабочего_графика,\n",
    "                employment AS Тип_трудоустройства,\n",
    "                COUNT(id) AS Количество_вакансий\n",
    "            FROM vacancies\n",
    "            GROUP BY schedule, employment /*Группируем по столбцам schedule, employment*/\n",
    "            ORDER BY COUNT(id) DESC /*Сортируем количество по убыванию*/\n",
    "            --OFFSET 1 LIMIT 1 /*Удаляем из вывода первую строку и после удаления выводим первую*/\n",
    "'''\n",
    "cur.execute(query) # Выполняем запрос\n",
    "result = cur.fetchall() # Извлекаем все строки результата\n",
    "df_8 = pd.DataFrame(\n",
    "    result, columns=[\"Тип_рабочего_графика\", \"Тип_трудоустройства\", \"Количество_вакансий\"]\n",
    "                    ) # Создаем DataFrame из результата  \n",
    "cur.close() # Закрываем курсор\n",
    "df_8"
   ]
  },
  {
   "cell_type": "markdown",
   "id": "e909ac66",
   "metadata": {
    "id": "lGUVqavdo4JQ"
   },
   "source": [
    "**Ответ:**\n",
    "\n",
    "На втором месте по популярности находится пара: Удалённая работа — Полная занятость (7802 вакансий)."
   ]
  },
  {
   "cell_type": "markdown",
   "id": "1414cc53",
   "metadata": {},
   "source": [
    "###### Дополнительно"
   ]
  },
  {
   "cell_type": "markdown",
   "id": "51219020",
   "metadata": {},
   "source": [
    "###### <center>Визуализация \"Количество вакансий по типам рабочего гафика и типам трудоустройства\""
   ]
  },
  {
   "cell_type": "code",
   "execution_count": 18,
   "id": "1d9268f1",
   "metadata": {},
   "outputs": [
    {
     "data": {
      "image/jpeg": "[encoded data removed]",
      "text/plain": [
       "<IPython.core.display.Image object>"
      ]
     },
     "execution_count": 18,
     "metadata": {},
     "output_type": "execute_result"
    }
   ],
   "source": [
    "# Создаем тепловую карту с использованием библиотеки Plotly  \n",
    "fig =px.imshow(df_8.pivot(\"Тип_рабочего_графика\", \"Тип_трудоустройства\", \"Количество_вакансий\"), \n",
    "                          color_continuous_scale=\"Portland\")  # Строим тепловую карту с указанием цветовой палитры\n",
    "# Настраиваем внешний вид тепловой карты  \n",
    "fig.update_xaxes(title=\"Тип трудоустройства\")  \n",
    "fig.update_yaxes(title=\"Тип рабочего графика\")  \n",
    "fig.update_layout(  \n",
    "    title=\"Количество вакансий по типу рабочего графика и типу трудоустройства\",  \n",
    "    xaxis=dict(tickmode='linear'),  \n",
    "    yaxis=dict(tickmode='linear'),  \n",
    "    coloraxis=dict(colorbar=dict(title=\"Количество вакансий\"))  \n",
    ")  \n",
    "#fig.show()\n",
    "\n",
    "fig.write_image('Plotly/figure_1.jpg') # Сохраняем график в файл    \n",
    "Image(data='Plotly/figure_1.jpg') # Отображаем график"
   ]
  },
  {
   "cell_type": "markdown",
   "id": "044e985a",
   "metadata": {},
   "source": [
    "**Вывод:**\n",
    "\n",
    "Максимальное количество вакансий требуются на полный рабочий день и полную занятость"
   ]
  },
  {
   "cell_type": "markdown",
   "id": "e294f994",
   "metadata": {},
   "source": [
    "# 4.5"
   ]
  },
  {
   "cell_type": "markdown",
   "id": "0136ffee-0ead-4a6b-b608-61d1c753a438",
   "metadata": {
    "id": "0136ffee-0ead-4a6b-b608-61d1c753a438"
   },
   "source": [
    "5. Напишите запрос, выводящий значения поля Требуемый опыт работы (experience) в порядке возрастания количества вакансий, в которых указан данный вариант опыта. "
   ]
  },
  {
   "cell_type": "code",
   "execution_count": 19,
   "id": "5b3a8e79-f7ab-4008-b767-12aea3a205ea",
   "metadata": {
    "id": "5b3a8e79-f7ab-4008-b767-12aea3a205ea"
   },
   "outputs": [
    {
     "data": {
      "text/html": [
       "<div>\n",
       "<style scoped>\n",
       "    .dataframe tbody tr th:only-of-type {\n",
       "        vertical-align: middle;\n",
       "    }\n",
       "\n",
       "    .dataframe tbody tr th {\n",
       "        vertical-align: top;\n",
       "    }\n",
       "\n",
       "    .dataframe thead th {\n",
       "        text-align: right;\n",
       "    }\n",
       "</style>\n",
       "<table border=\"1\" class=\"dataframe\">\n",
       "  <thead>\n",
       "    <tr style=\"text-align: right;\">\n",
       "      <th></th>\n",
       "      <th>Требуемый_опыт_работы</th>\n",
       "      <th>Количество</th>\n",
       "    </tr>\n",
       "  </thead>\n",
       "  <tbody>\n",
       "    <tr>\n",
       "      <th>0</th>\n",
       "      <td>Более 6 лет</td>\n",
       "      <td>1337</td>\n",
       "    </tr>\n",
       "    <tr>\n",
       "      <th>1</th>\n",
       "      <td>Нет опыта</td>\n",
       "      <td>7197</td>\n",
       "    </tr>\n",
       "    <tr>\n",
       "      <th>2</th>\n",
       "      <td>От 3 до 6 лет</td>\n",
       "      <td>14511</td>\n",
       "    </tr>\n",
       "    <tr>\n",
       "      <th>3</th>\n",
       "      <td>От 1 года до 3 лет</td>\n",
       "      <td>26152</td>\n",
       "    </tr>\n",
       "  </tbody>\n",
       "</table>\n",
       "</div>"
      ],
      "text/plain": [
       "  Требуемый_опыт_работы  Количество\n",
       "0           Более 6 лет        1337\n",
       "1             Нет опыта        7197\n",
       "2         От 3 до 6 лет       14511\n",
       "3    От 1 года до 3 лет       26152"
      ]
     },
     "execution_count": 19,
     "metadata": {},
     "output_type": "execute_result"
    }
   ],
   "source": [
    "# текст запроса\n",
    "cur = connection.cursor() # Создаем курсор для выполнения SQL-запроса\n",
    "\n",
    "# Считаем количество вакансий для каждого типа рабочего графика и трудоустройства\n",
    "query = f'''SELECT\n",
    "                experience AS Требуемый_опыт_работы,\n",
    "                COUNT(experience) AS Количество\n",
    "            FROM vacancies\n",
    "            GROUP BY experience /*Группируем по столбцу experience*/\n",
    "            ORDER BY COUNT(experience) ASC /*Сортируем количество по возрастанию*/\n",
    "'''\n",
    "cur.execute(query) # Выполняем запрос\n",
    "result = cur.fetchall() # Извлекаем все строки результата\n",
    "df_9 = pd.DataFrame(\n",
    "    result, columns=[\"Требуемый_опыт_работы\", \"Количество\"]) # Создаем DataFrame из результата  \n",
    "cur.close() # Закрываем курсор\n",
    "df_9"
   ]
  },
  {
   "cell_type": "markdown",
   "id": "3dec3ce7",
   "metadata": {
    "id": "3Is64Y-hpDpq"
   },
   "source": [
    "**Ответ:**\n",
    "\n",
    "Более 6 лет — Нет опыта — От 3 до 6 лет — От 1 года до 3 лет."
   ]
  },
  {
   "cell_type": "markdown",
   "id": "9110c5a8",
   "metadata": {},
   "source": [
    "###### <center>Визуализация \"Количество вакансий и требуемый опыт работы\""
   ]
  },
  {
   "cell_type": "code",
   "execution_count": 20,
   "id": "7ac8efce",
   "metadata": {},
   "outputs": [
    {
     "data": {
      "image/jpeg": "[encoded data removed]",
      "text/plain": [
       "<IPython.core.display.Image object>"
      ]
     },
     "execution_count": 20,
     "metadata": {},
     "output_type": "execute_result"
    }
   ],
   "source": [
    "# Создаем столбчатую диаграмму с использованием библиотеки Plotly  \n",
    "fig = px.bar(df_9, x='Требуемый_опыт_работы', y='Количество') \n",
    "\n",
    "fig.update_layout(\n",
    "    title=\"Количество вакансий и требуемый опыт работы\",\n",
    "    title_x = 0.5,\n",
    "    width=1000,\n",
    "    height=800,\n",
    "    xaxis_title=\"Опыт\",\n",
    "    yaxis_title=\"Количество вакансий\",\n",
    "    legend=dict(x=0, orientation=\"h\"),\n",
    "    margin=dict(l=0, r=0, t=50, b=0) # Параметры вывода диаграммы\n",
    ")\n",
    "#fig.show()\n",
    "\n",
    "fig.write_image('Plotly/figure_1.jpg') # Сохраняем график в файл    \n",
    "Image(data='Plotly/figure_1.jpg') # Отображаем график"
   ]
  },
  {
   "cell_type": "markdown",
   "id": "oq2b7n1QpIka",
   "metadata": {
    "id": "oq2b7n1QpIka"
   },
   "source": [
    "***"
   ]
  },
  {
   "cell_type": "markdown",
   "id": "650cc5a2",
   "metadata": {
    "id": "e91f87ed-e25c-4f96-9f92-b642e8c0b4fa"
   },
   "source": [
    "### <center>**Выводы по детальному анализу вакансий**\n",
    "\n",
    "В результате детального анализа вакансий, проведенного в рамках проекта, были получены следующие результаты:\n",
    "\n",
    "* Самые популярные регионы с наибольшим количеством вакансий: Москва, Санкт-Петербург, Минск, Новосибирск и Алматы. Эти регионы предлагают наибольшее количество возможностей для соискателей.\n",
    "    \n",
    "\n",
    "* Из общего числа вакансий, 24,073 имеют хотя бы одно заполненное поле с указанием зарплаты. Это означает, что около половины вакансий содержат информацию о зарплате.\n",
    "    \n",
    "\n",
    "* Среднее значение нижней границы зарплатной вилки составляет около 71,065 рублей, а среднее значение верхней границы - около 110,537 рублей. Эти значения могут служить ориентиром для соискателей при определении ожидаемого уровня заработной платы.\n",
    "    \n",
    "\n",
    "* Самыми популярными комбинациями типа рабочего графика и типа трудоустройства являются \"Удаленная работа - Полная занятость\" с 7,802 вакансиями, а также \"Полный день - Полная занятость\" с 35,367 вакансиями. Это указывает на востребованность гибкого графика и возможности удаленной работы в данной сфере.\n",
    "    \n",
    "\n",
    "* Самые часто требуемые варианты опыта работы в порядке возрастания количества вакансий: \"Более 6 лет\", \"Нет опыта\", \"От 3 до 6 лет\" и \"От 1 года до 3 лет\". Это дает представление о разнообразии требуемого опыта работы.\n",
    "    \n",
    "\n",
    "**Обобщая результаты детального анализа, можно сделать вывод**, что вакансии представлены в различных регионах, включая крупные города, с разнообразными вариантами рабочего графика и требуемого опыта работы. Информация о зарплате доступна для значительной части вакансий. Эти выводы помогут соискателям лучше ориентироваться на рынке труда и принимать более обоснованные решения относительно выбора вакансий и их условий."
   ]
  },
  {
   "cell_type": "markdown",
   "id": "7ea20ab6-04a7-40a0-adec-443a0e5a42c3",
   "metadata": {
    "id": "7ea20ab6-04a7-40a0-adec-443a0e5a42c3"
   },
   "source": [
    "# Юнит 5. Анализ работодателей"
   ]
  },
  {
   "cell_type": "markdown",
   "id": "16030df9",
   "metadata": {},
   "source": [
    "# 5.1"
   ]
  },
  {
   "cell_type": "markdown",
   "id": "968aed80-74ef-4ffb-b5bf-c65b84e9caea",
   "metadata": {
    "id": "968aed80-74ef-4ffb-b5bf-c65b84e9caea"
   },
   "source": [
    "1. Напишите запрос, который позволит узнать, какие работодатели находятся на первом и пятом месте по количеству вакансий."
   ]
  },
  {
   "cell_type": "code",
   "execution_count": 21,
   "id": "f2d62796-d400-4ec1-a675-88112739a50e",
   "metadata": {
    "id": "f2d62796-d400-4ec1-a675-88112739a50e"
   },
   "outputs": [
    {
     "name": "stdout",
     "output_type": "stream",
     "text": [
      " Наименование_работодателя  Количество_вакансий  Порядковый_номер\n",
      "ЭФКО, Управляющая компания                   91                30\n",
      "                  ИнфоТеКС                   92                29\n",
      "            Банк ВТБ (ПАО)                   94                28\n",
      "  Центр Высоких Технологий                   96                27\n",
      "                Совкомбанк                   99                26\n",
      "                   МегаФон                  104                25\n",
      "                  Softline                  108                24\n",
      "   Лига Цифровой Экономики                  110                23\n",
      "    МАГНИТ, Розничная сеть                  114                22\n",
      "                     ЛАНИТ                  117                21\n",
      "                     ANCOR                  118                20\n",
      "           Bell Integrator                  121                19\n",
      "  Иннотех, Группа компаний                  122                18\n",
      "    Поляков Денис Иванович                  127                17\n",
      "                        VK                  150                16\n",
      "                Спецремонт                  151                15\n",
      "                  Andersen                  155                14\n",
      "                    Тензор                  155                13\n",
      "                       IBS                  175                12\n",
      "                      Ozon                  175                11\n",
      "                Первый Бит                  176                10\n",
      "     Совкомбанк Технологии                  204                 9\n",
      "                   DataArt                  247                 8\n",
      "                       МТС                  292                 7\n",
      "               ИК СИБИНТЕК                  327                 6\n",
      "             Газпром нефть                  331                 5\n",
      "                      СБЕР                  428                 4\n",
      "                  Тинькофф                  444                 3\n",
      "                Ростелеком                  491                 2\n",
      "                    Яндекс                 1933                 1\n"
     ]
    }
   ],
   "source": [
    "# текст запроса\n",
    "cur = connection.cursor() # Создаем курсор для выполнения SQL-запроса\n",
    "\n",
    "# Считаем количество вакансий для каждого типа рабочего графика и трудоустройства\n",
    "query = f'''WITH num_rows AS ( /*создаем временную таблицу*/\n",
    "            SELECT\n",
    "                e.name AS Наименование_работодателя,\n",
    "                COUNT(v.id) AS Количество_вакансий,\n",
    "                ROW_NUMBER() OVER (ORDER BY COUNT(v.id) DESC\n",
    "                ) AS Порядковый_номер /*Присваиваем уникальный номер строки*/\n",
    "            FROM employers e\n",
    "            JOIN vacancies v ON v.employer_id = e.id /*соединяем таблици*/\n",
    "            GROUP BY e.name\n",
    "            )\n",
    "            SELECT *\n",
    "            FROM num_rows\n",
    "            --WHERE Порядковый_номер IN (1, 5) /*Выводим 1 и 5 строку*/\n",
    "            WHERE Порядковый_номер BETWEEN 1 AND 30\n",
    "            ORDER BY Порядковый_номер DESC\n",
    "'''\n",
    "cur.execute(query) # Выполняем запрос\n",
    "result = cur.fetchall() # Извлекаем все строки результата\n",
    "df_10 = pd.DataFrame(\n",
    "    result, columns=[\n",
    "        \"Наименование_работодателя\", \n",
    "        \"Количество_вакансий\", \n",
    "        \"Порядковый_номер\"]) # Создаем DataFrame из результата \n",
    "cur.close() # Закрываем курсор\n",
    "print(df_10.to_string(index=False)) # Скрываем индекс при выводе на экран"
   ]
  },
  {
   "cell_type": "markdown",
   "id": "6810c92f",
   "metadata": {
    "id": "64tOMkAxqkQk"
   },
   "source": [
    "**Ответ:**\n",
    "\n",
    "На первом и пятом месте по количеству вакансий находятся Яндекс и Газпром нефть."
   ]
  },
  {
   "cell_type": "markdown",
   "id": "fef8a4bb",
   "metadata": {},
   "source": [
    "###### Дополнительно"
   ]
  },
  {
   "cell_type": "markdown",
   "id": "7c560d42",
   "metadata": {},
   "source": [
    "###### <center>Визуализация \"Количество 30 работодателей и их вакансий\""
   ]
  },
  {
   "cell_type": "code",
   "execution_count": 22,
   "id": "440415e1",
   "metadata": {},
   "outputs": [
    {
     "data": {
      "image/jpeg": "[encoded data removed]",
      "text/plain": [
       "<IPython.core.display.Image object>"
      ]
     },
     "execution_count": 22,
     "metadata": {},
     "output_type": "execute_result"
    }
   ],
   "source": [
    "# Создаем столбчатую диаграмму с использованием библиотеки Plotly  \n",
    "fig = px.bar(df_10, y='Наименование_работодателя', x='Количество_вакансий')  \n",
    "  \n",
    "# Добавляем линию медианы  \n",
    "median = df_10['Количество_вакансий'].median()  \n",
    "fig.add_shape(  \n",
    "    type=\"line\",  \n",
    "    x0=median, y0=-0.5, x1=median, y1=len(df_10['Наименование_работодателя'])-0.5,  \n",
    "    line=dict(color=\"red\", width=2, dash=\"dash\"),  \n",
    "    name=\"Медиана\"  \n",
    ")\n",
    "# Добавляем аннотацию с числовым значением медианы\n",
    "fig.add_annotation(  \n",
    "    x=median, y=len(df_10['Наименование_работодателя'])-0.5,  \n",
    "    text=\"Медиана: {}\".format(median),  \n",
    "    showarrow=True,  \n",
    "    arrowhead=3,  \n",
    "    ax=250,  \n",
    "    ay=50,\n",
    "    font=dict(size=15)\n",
    ")  \n",
    "# Параметры вывода диаграммы\n",
    "fig.update_layout(  \n",
    "    title=\"Количество 30 работодателей и их вакансий\",  \n",
    "    title_x=0.5,  \n",
    "    width=1000,  \n",
    "    height=800,  \n",
    "    xaxis_title=\"Количество вакансий\",  \n",
    "    yaxis_title=\"Работодатели\",  \n",
    "    legend=dict(x=0, orientation=\"h\"),  \n",
    "    showlegend=True,  \n",
    "    margin=dict(l=0, r=0, t=50, b=0)   \n",
    ")  \n",
    "#fig.show()\n",
    "\n",
    "fig.write_image('Plotly/figure_1.jpg') # Сохраняем график в файл    \n",
    "Image(data='Plotly/figure_1.jpg') # Отображаем график  "
   ]
  },
  {
   "cell_type": "markdown",
   "id": "1d662a1d",
   "metadata": {},
   "source": [
    "# 5.2"
   ]
  },
  {
   "cell_type": "markdown",
   "id": "68377cfc-b378-43dc-ab7d-1195abf2c515",
   "metadata": {
    "id": "68377cfc-b378-43dc-ab7d-1195abf2c515"
   },
   "source": [
    "2. Напишите запрос, который для каждого региона выведет количество работодателей и вакансий в нём.\n",
    "Среди регионов, в которых нет вакансий, найдите тот, в котором наибольшее количество работодателей.\n"
   ]
  },
  {
   "cell_type": "code",
   "execution_count": 23,
   "id": "dd7df27a-e3e8-412e-a21a-5d389b71e891",
   "metadata": {
    "id": "dd7df27a-e3e8-412e-a21a-5d389b71e891"
   },
   "outputs": [
    {
     "data": {
      "text/html": [
       "<div>\n",
       "<style scoped>\n",
       "    .dataframe tbody tr th:only-of-type {\n",
       "        vertical-align: middle;\n",
       "    }\n",
       "\n",
       "    .dataframe tbody tr th {\n",
       "        vertical-align: top;\n",
       "    }\n",
       "\n",
       "    .dataframe thead th {\n",
       "        text-align: right;\n",
       "    }\n",
       "</style>\n",
       "<table border=\"1\" class=\"dataframe\">\n",
       "  <thead>\n",
       "    <tr style=\"text-align: right;\">\n",
       "      <th></th>\n",
       "      <th>Название_региона</th>\n",
       "      <th>Количество_вакансий</th>\n",
       "      <th>Количество_работодателей</th>\n",
       "    </tr>\n",
       "  </thead>\n",
       "  <tbody>\n",
       "    <tr>\n",
       "      <th>0</th>\n",
       "      <td>Россия</td>\n",
       "      <td>0</td>\n",
       "      <td>410</td>\n",
       "    </tr>\n",
       "    <tr>\n",
       "      <th>1</th>\n",
       "      <td>Казахстан</td>\n",
       "      <td>0</td>\n",
       "      <td>207</td>\n",
       "    </tr>\n",
       "    <tr>\n",
       "      <th>2</th>\n",
       "      <td>Московская область</td>\n",
       "      <td>0</td>\n",
       "      <td>75</td>\n",
       "    </tr>\n",
       "    <tr>\n",
       "      <th>3</th>\n",
       "      <td>Краснодарский край</td>\n",
       "      <td>0</td>\n",
       "      <td>19</td>\n",
       "    </tr>\n",
       "    <tr>\n",
       "      <th>4</th>\n",
       "      <td>Беларусь</td>\n",
       "      <td>0</td>\n",
       "      <td>18</td>\n",
       "    </tr>\n",
       "  </tbody>\n",
       "</table>\n",
       "</div>"
      ],
      "text/plain": [
       "     Название_региона  Количество_вакансий  Количество_работодателей\n",
       "0              Россия                    0                       410\n",
       "1           Казахстан                    0                       207\n",
       "2  Московская область                    0                        75\n",
       "3  Краснодарский край                    0                        19\n",
       "4            Беларусь                    0                        18"
      ]
     },
     "execution_count": 23,
     "metadata": {},
     "output_type": "execute_result"
    }
   ],
   "source": [
    "# текст запроса\n",
    "cur = connection.cursor() # Создаем курсор для выполнения SQL-запроса\n",
    "\n",
    "# Считаем количество количество работодателей без вакансий в регионах\n",
    "query = f'''SELECT\n",
    "                a.name AS Название_региона,\n",
    "                COUNT(v.id) AS Количество_вакансий,\n",
    "                COUNT(a.id) AS Количество_работодателей\n",
    "            FROM areas a\n",
    "            LEFT JOIN employers e ON a.id = e.area\n",
    "            LEFT JOIN vacancies v ON a.id = v.area_id\n",
    "            WHERE v.id IS NULL\n",
    "            GROUP BY a.name\n",
    "            ORDER BY COUNT(a.id) DESC\n",
    "            LIMIT 5\n",
    "            \n",
    "'''\n",
    "cur.execute(query) # Выполняем запрос\n",
    "result = cur.fetchall() # Извлекаем все строки результата\n",
    "df_11 = pd.DataFrame(\n",
    "    result, columns=[\n",
    "        \"Название_региона\", \n",
    "        \"Количество_вакансий\", \n",
    "        'Количество_работодателей']) # Создаем DataFrame из результата \n",
    "cur.close() # Закрываем курсор\n",
    "df_11"
   ]
  },
  {
   "cell_type": "markdown",
   "id": "465d1339",
   "metadata": {
    "id": "x1ikWbydrbf6"
   },
   "source": [
    "**Ответ:**\n",
    "  \n",
    "Регион с наибольшим количеством работодателей без вакансий: Россия (410 работодателей)."
   ]
  },
  {
   "cell_type": "markdown",
   "id": "3b60354f",
   "metadata": {},
   "source": [
    "###### Дополнительно"
   ]
  },
  {
   "cell_type": "markdown",
   "id": "a7970822",
   "metadata": {},
   "source": [
    "###### <center>Визуализация \"Соотношение количества работодателей без вакансий и 5 регионов\""
   ]
  },
  {
   "cell_type": "code",
   "execution_count": 24,
   "id": "41b55210",
   "metadata": {},
   "outputs": [
    {
     "data": {
      "image/jpeg": "[encoded data removed]",
      "text/plain": [
       "<IPython.core.display.Image object>"
      ]
     },
     "execution_count": 24,
     "metadata": {},
     "output_type": "execute_result"
    }
   ],
   "source": [
    "# Создаем столбчатую диаграмму с использованием библиотеки Plotly  \n",
    "fig = px.bar(df_11[::-1], y='Название_региона', x='Количество_работодателей')  \n",
    "  \n",
    "# Добавляем линию медианы  \n",
    "median = df_11['Количество_работодателей'].median()  \n",
    "fig.add_shape(  \n",
    "    type=\"line\",  \n",
    "    x0=median, y0=-0.5, x1=median, y1=len(df_11['Название_региона'])-0.5,  \n",
    "    line=dict(color=\"red\", width=2, dash=\"dash\"),  \n",
    "    name=\"Медиана\"  \n",
    ")\n",
    "# Добавляем аннотацию с числовым значением медианы\n",
    "fig.add_annotation(  \n",
    "    x=median, y=len(df_11['Название_региона'])-0.5,  \n",
    "    text=\"Медиана: {}\".format(median),  \n",
    "    showarrow=True,  \n",
    "    arrowhead=3,  \n",
    "    ax=350,  \n",
    "    ay=150,\n",
    "    font=dict(size=15)\n",
    ")  \n",
    "# Параметры вывода диаграммы\n",
    "fig.update_layout(  \n",
    "    title=\"Соотношение количества работодателей без вакансий и 5 регионов\",  \n",
    "    title_x=0.5,  \n",
    "    width=1000,  \n",
    "    height=800,  \n",
    "    xaxis_title=\"Количество работодателей\",  \n",
    "    yaxis_title=\"Регионы\",  \n",
    "    legend=dict(x=0, orientation=\"h\"),  \n",
    "    showlegend=True,  \n",
    "    margin=dict(l=0, r=0, t=50, b=0)   \n",
    ")  \n",
    "#fig.show()\n",
    "\n",
    "fig.write_image('Plotly/figure_1.jpg') # Сохраняем график в файл    \n",
    "Image(data='Plotly/figure_1.jpg') # Отображаем график  "
   ]
  },
  {
   "cell_type": "markdown",
   "id": "6c4e3810",
   "metadata": {},
   "source": [
    "# 5.3"
   ]
  },
  {
   "cell_type": "markdown",
   "id": "f2fe0acb-ab1a-4e15-9326-2560e22d73c1",
   "metadata": {
    "id": "f2fe0acb-ab1a-4e15-9326-2560e22d73c1"
   },
   "source": [
    "3. Для каждого работодателя посчитайте количество регионов, в которых он публикует свои вакансии. Отсортируйте результат по убыванию количества."
   ]
  },
  {
   "cell_type": "code",
   "execution_count": 25,
   "id": "1eda8f5e",
   "metadata": {
    "id": "6271f8ad-bd2e-4196-ae4a-5b39c4c1010e"
   },
   "outputs": [
    {
     "data": {
      "text/html": [
       "<div>\n",
       "<style scoped>\n",
       "    .dataframe tbody tr th:only-of-type {\n",
       "        vertical-align: middle;\n",
       "    }\n",
       "\n",
       "    .dataframe tbody tr th {\n",
       "        vertical-align: top;\n",
       "    }\n",
       "\n",
       "    .dataframe thead th {\n",
       "        text-align: right;\n",
       "    }\n",
       "</style>\n",
       "<table border=\"1\" class=\"dataframe\">\n",
       "  <thead>\n",
       "    <tr style=\"text-align: right;\">\n",
       "      <th></th>\n",
       "      <th>id_работодателя</th>\n",
       "      <th>Название_работодателя</th>\n",
       "      <th>Количество_регионов</th>\n",
       "    </tr>\n",
       "  </thead>\n",
       "  <tbody>\n",
       "    <tr>\n",
       "      <th>0</th>\n",
       "      <td>1740</td>\n",
       "      <td>Яндекс</td>\n",
       "      <td>181</td>\n",
       "    </tr>\n",
       "    <tr>\n",
       "      <th>1</th>\n",
       "      <td>2748</td>\n",
       "      <td>Ростелеком</td>\n",
       "      <td>152</td>\n",
       "    </tr>\n",
       "    <tr>\n",
       "      <th>2</th>\n",
       "      <td>5724811</td>\n",
       "      <td>Спецремонт</td>\n",
       "      <td>116</td>\n",
       "    </tr>\n",
       "    <tr>\n",
       "      <th>3</th>\n",
       "      <td>5130287</td>\n",
       "      <td>Поляков Денис Иванович</td>\n",
       "      <td>88</td>\n",
       "    </tr>\n",
       "    <tr>\n",
       "      <th>4</th>\n",
       "      <td>3682876</td>\n",
       "      <td>ООО ЕФИН</td>\n",
       "      <td>71</td>\n",
       "    </tr>\n",
       "    <tr>\n",
       "      <th>5</th>\n",
       "      <td>7944</td>\n",
       "      <td>Совкомбанк</td>\n",
       "      <td>63</td>\n",
       "    </tr>\n",
       "    <tr>\n",
       "      <th>6</th>\n",
       "      <td>3776</td>\n",
       "      <td>МТС</td>\n",
       "      <td>55</td>\n",
       "    </tr>\n",
       "    <tr>\n",
       "      <th>7</th>\n",
       "      <td>53797</td>\n",
       "      <td>ЭФКО, Управляющая компания</td>\n",
       "      <td>49</td>\n",
       "    </tr>\n",
       "    <tr>\n",
       "      <th>8</th>\n",
       "      <td>4352</td>\n",
       "      <td>Почта России</td>\n",
       "      <td>48</td>\n",
       "    </tr>\n",
       "    <tr>\n",
       "      <th>9</th>\n",
       "      <td>3776815</td>\n",
       "      <td>КРОН</td>\n",
       "      <td>48</td>\n",
       "    </tr>\n",
       "    <tr>\n",
       "      <th>10</th>\n",
       "      <td>622121</td>\n",
       "      <td>MCORE</td>\n",
       "      <td>46</td>\n",
       "    </tr>\n",
       "    <tr>\n",
       "      <th>11</th>\n",
       "      <td>197135</td>\n",
       "      <td>ИК СИБИНТЕК</td>\n",
       "      <td>46</td>\n",
       "    </tr>\n",
       "    <tr>\n",
       "      <th>12</th>\n",
       "      <td>1473866</td>\n",
       "      <td>Сбербанк-Сервис</td>\n",
       "      <td>45</td>\n",
       "    </tr>\n",
       "    <tr>\n",
       "      <th>13</th>\n",
       "      <td>1947314</td>\n",
       "      <td>ANCOR</td>\n",
       "      <td>44</td>\n",
       "    </tr>\n",
       "    <tr>\n",
       "      <th>14</th>\n",
       "      <td>3177</td>\n",
       "      <td>Первый Бит</td>\n",
       "      <td>43</td>\n",
       "    </tr>\n",
       "    <tr>\n",
       "      <th>15</th>\n",
       "      <td>78638</td>\n",
       "      <td>Тинькофф</td>\n",
       "      <td>43</td>\n",
       "    </tr>\n",
       "    <tr>\n",
       "      <th>16</th>\n",
       "      <td>213349</td>\n",
       "      <td>АЛНАС</td>\n",
       "      <td>41</td>\n",
       "    </tr>\n",
       "    <tr>\n",
       "      <th>17</th>\n",
       "      <td>139</td>\n",
       "      <td>IBS</td>\n",
       "      <td>36</td>\n",
       "    </tr>\n",
       "    <tr>\n",
       "      <th>18</th>\n",
       "      <td>2180</td>\n",
       "      <td>Ozon</td>\n",
       "      <td>36</td>\n",
       "    </tr>\n",
       "    <tr>\n",
       "      <th>19</th>\n",
       "      <td>84585</td>\n",
       "      <td>Авито</td>\n",
       "      <td>35</td>\n",
       "    </tr>\n",
       "    <tr>\n",
       "      <th>20</th>\n",
       "      <td>4872</td>\n",
       "      <td>Т1 Интеграция</td>\n",
       "      <td>34</td>\n",
       "    </tr>\n",
       "    <tr>\n",
       "      <th>21</th>\n",
       "      <td>1237073</td>\n",
       "      <td>АТМ АЛЬЯНС</td>\n",
       "      <td>34</td>\n",
       "    </tr>\n",
       "    <tr>\n",
       "      <th>22</th>\n",
       "      <td>44272</td>\n",
       "      <td>ЭР-Телеком</td>\n",
       "      <td>33</td>\n",
       "    </tr>\n",
       "    <tr>\n",
       "      <th>23</th>\n",
       "      <td>733</td>\n",
       "      <td>ЛАНИТ</td>\n",
       "      <td>29</td>\n",
       "    </tr>\n",
       "    <tr>\n",
       "      <th>24</th>\n",
       "      <td>172</td>\n",
       "      <td>1C-Рарус</td>\n",
       "      <td>28</td>\n",
       "    </tr>\n",
       "    <tr>\n",
       "      <th>25</th>\n",
       "      <td>5382804</td>\n",
       "      <td>Volna.tech</td>\n",
       "      <td>27</td>\n",
       "    </tr>\n",
       "    <tr>\n",
       "      <th>26</th>\n",
       "      <td>1035394</td>\n",
       "      <td>Красное &amp; Белое, розничная сеть</td>\n",
       "      <td>27</td>\n",
       "    </tr>\n",
       "    <tr>\n",
       "      <th>27</th>\n",
       "      <td>6189</td>\n",
       "      <td>Bell Integrator</td>\n",
       "      <td>26</td>\n",
       "    </tr>\n",
       "    <tr>\n",
       "      <th>28</th>\n",
       "      <td>5390761</td>\n",
       "      <td>Совкомбанк Технологии</td>\n",
       "      <td>26</td>\n",
       "    </tr>\n",
       "    <tr>\n",
       "      <th>29</th>\n",
       "      <td>114448</td>\n",
       "      <td>Playrix</td>\n",
       "      <td>25</td>\n",
       "    </tr>\n",
       "    <tr>\n",
       "      <th>30</th>\n",
       "      <td>67611</td>\n",
       "      <td>Тензор</td>\n",
       "      <td>25</td>\n",
       "    </tr>\n",
       "    <tr>\n",
       "      <th>31</th>\n",
       "      <td>49357</td>\n",
       "      <td>МАГНИТ, Розничная сеть</td>\n",
       "      <td>25</td>\n",
       "    </tr>\n",
       "    <tr>\n",
       "      <th>32</th>\n",
       "      <td>2343</td>\n",
       "      <td>Спортмастер</td>\n",
       "      <td>25</td>\n",
       "    </tr>\n",
       "    <tr>\n",
       "      <th>33</th>\n",
       "      <td>2381</td>\n",
       "      <td>Softline</td>\n",
       "      <td>25</td>\n",
       "    </tr>\n",
       "    <tr>\n",
       "      <th>34</th>\n",
       "      <td>1864933</td>\n",
       "      <td>Филиал ФКУ Налог-Сервис ФНС России по ЦОД в г....</td>\n",
       "      <td>25</td>\n",
       "    </tr>\n",
       "    <tr>\n",
       "      <th>35</th>\n",
       "      <td>3529</td>\n",
       "      <td>СБЕР</td>\n",
       "      <td>24</td>\n",
       "    </tr>\n",
       "    <tr>\n",
       "      <th>36</th>\n",
       "      <td>909194</td>\n",
       "      <td>Нэти</td>\n",
       "      <td>24</td>\n",
       "    </tr>\n",
       "    <tr>\n",
       "      <th>37</th>\n",
       "      <td>39305</td>\n",
       "      <td>Газпром нефть</td>\n",
       "      <td>24</td>\n",
       "    </tr>\n",
       "    <tr>\n",
       "      <th>38</th>\n",
       "      <td>4181</td>\n",
       "      <td>Банк ВТБ (ПАО)</td>\n",
       "      <td>24</td>\n",
       "    </tr>\n",
       "    <tr>\n",
       "      <th>39</th>\n",
       "      <td>3127</td>\n",
       "      <td>МегаФон</td>\n",
       "      <td>23</td>\n",
       "    </tr>\n",
       "    <tr>\n",
       "      <th>40</th>\n",
       "      <td>1512281</td>\n",
       "      <td>«Аксиома-Софт»</td>\n",
       "      <td>23</td>\n",
       "    </tr>\n",
       "    <tr>\n",
       "      <th>41</th>\n",
       "      <td>1025275</td>\n",
       "      <td>Сеть магазинов цифровой и бытовой техники DNS</td>\n",
       "      <td>23</td>\n",
       "    </tr>\n",
       "    <tr>\n",
       "      <th>42</th>\n",
       "      <td>1648566</td>\n",
       "      <td>Консалтинг Групп</td>\n",
       "      <td>23</td>\n",
       "    </tr>\n",
       "    <tr>\n",
       "      <th>43</th>\n",
       "      <td>10042</td>\n",
       "      <td>Sumitec International</td>\n",
       "      <td>23</td>\n",
       "    </tr>\n",
       "    <tr>\n",
       "      <th>44</th>\n",
       "      <td>4903713</td>\n",
       "      <td>Диалог Регионы</td>\n",
       "      <td>23</td>\n",
       "    </tr>\n",
       "    <tr>\n",
       "      <th>45</th>\n",
       "      <td>58320</td>\n",
       "      <td>Россельхозбанк</td>\n",
       "      <td>22</td>\n",
       "    </tr>\n",
       "    <tr>\n",
       "      <th>46</th>\n",
       "      <td>36575</td>\n",
       "      <td>Российская телевизионная и радиовещательная се...</td>\n",
       "      <td>22</td>\n",
       "    </tr>\n",
       "    <tr>\n",
       "      <th>47</th>\n",
       "      <td>981</td>\n",
       "      <td>Калашников</td>\n",
       "      <td>21</td>\n",
       "    </tr>\n",
       "    <tr>\n",
       "      <th>48</th>\n",
       "      <td>11463</td>\n",
       "      <td>Homework</td>\n",
       "      <td>21</td>\n",
       "    </tr>\n",
       "    <tr>\n",
       "      <th>49</th>\n",
       "      <td>53879</td>\n",
       "      <td>ITooLabs</td>\n",
       "      <td>21</td>\n",
       "    </tr>\n",
       "  </tbody>\n",
       "</table>\n",
       "</div>"
      ],
      "text/plain": [
       "    id_работодателя                              Название_работодателя  \\\n",
       "0              1740                                             Яндекс   \n",
       "1              2748                                         Ростелеком   \n",
       "2           5724811                                         Спецремонт   \n",
       "3           5130287                             Поляков Денис Иванович   \n",
       "4           3682876                                          ООО ЕФИН    \n",
       "5              7944                                         Совкомбанк   \n",
       "6              3776                                                МТС   \n",
       "7             53797                         ЭФКО, Управляющая компания   \n",
       "8              4352                                       Почта России   \n",
       "9           3776815                                               КРОН   \n",
       "10           622121                                              MCORE   \n",
       "11           197135                                        ИК СИБИНТЕК   \n",
       "12          1473866                                    Сбербанк-Сервис   \n",
       "13          1947314                                              ANCOR   \n",
       "14             3177                                         Первый Бит   \n",
       "15            78638                                           Тинькофф   \n",
       "16           213349                                              АЛНАС   \n",
       "17              139                                                IBS   \n",
       "18             2180                                               Ozon   \n",
       "19            84585                                              Авито   \n",
       "20             4872                                      Т1 Интеграция   \n",
       "21          1237073                                         АТМ АЛЬЯНС   \n",
       "22            44272                                         ЭР-Телеком   \n",
       "23              733                                              ЛАНИТ   \n",
       "24              172                                           1C-Рарус   \n",
       "25          5382804                                         Volna.tech   \n",
       "26          1035394                    Красное & Белое, розничная сеть   \n",
       "27             6189                                    Bell Integrator   \n",
       "28          5390761                              Совкомбанк Технологии   \n",
       "29           114448                                            Playrix   \n",
       "30            67611                                             Тензор   \n",
       "31            49357                             МАГНИТ, Розничная сеть   \n",
       "32             2343                                        Спортмастер   \n",
       "33             2381                                           Softline   \n",
       "34          1864933  Филиал ФКУ Налог-Сервис ФНС России по ЦОД в г....   \n",
       "35             3529                                               СБЕР   \n",
       "36           909194                                               Нэти   \n",
       "37            39305                                      Газпром нефть   \n",
       "38             4181                                     Банк ВТБ (ПАО)   \n",
       "39             3127                                            МегаФон   \n",
       "40          1512281                                     «Аксиома-Софт»   \n",
       "41          1025275      Сеть магазинов цифровой и бытовой техники DNS   \n",
       "42          1648566                                   Консалтинг Групп   \n",
       "43            10042                              Sumitec International   \n",
       "44          4903713                                     Диалог Регионы   \n",
       "45            58320                                     Россельхозбанк   \n",
       "46            36575  Российская телевизионная и радиовещательная се...   \n",
       "47              981                                         Калашников   \n",
       "48            11463                                           Homework   \n",
       "49            53879                                           ITooLabs   \n",
       "\n",
       "    Количество_регионов  \n",
       "0                   181  \n",
       "1                   152  \n",
       "2                   116  \n",
       "3                    88  \n",
       "4                    71  \n",
       "5                    63  \n",
       "6                    55  \n",
       "7                    49  \n",
       "8                    48  \n",
       "9                    48  \n",
       "10                   46  \n",
       "11                   46  \n",
       "12                   45  \n",
       "13                   44  \n",
       "14                   43  \n",
       "15                   43  \n",
       "16                   41  \n",
       "17                   36  \n",
       "18                   36  \n",
       "19                   35  \n",
       "20                   34  \n",
       "21                   34  \n",
       "22                   33  \n",
       "23                   29  \n",
       "24                   28  \n",
       "25                   27  \n",
       "26                   27  \n",
       "27                   26  \n",
       "28                   26  \n",
       "29                   25  \n",
       "30                   25  \n",
       "31                   25  \n",
       "32                   25  \n",
       "33                   25  \n",
       "34                   25  \n",
       "35                   24  \n",
       "36                   24  \n",
       "37                   24  \n",
       "38                   24  \n",
       "39                   23  \n",
       "40                   23  \n",
       "41                   23  \n",
       "42                   23  \n",
       "43                   23  \n",
       "44                   23  \n",
       "45                   22  \n",
       "46                   22  \n",
       "47                   21  \n",
       "48                   21  \n",
       "49                   21  "
      ]
     },
     "execution_count": 25,
     "metadata": {},
     "output_type": "execute_result"
    }
   ],
   "source": [
    "# текст запроса\n",
    "cur = connection.cursor() # Создаем курсор для выполнения SQL-запроса\n",
    "\n",
    "# Считаем количество регионов с вакансиями у каждого работодателя\n",
    "query = f'''SELECT\n",
    "                e.id AS id_работодателя,\n",
    "                e.name AS Название_работодателя,\n",
    "                COUNT(DISTINCT v.area_id) AS Количество__регионов\n",
    "            FROM employers e\n",
    "            JOIN vacancies v ON e.id = v.employer_id \n",
    "            GROUP BY e.id\n",
    "            ORDER BY COUNT(DISTINCT v.area_id) DESC\n",
    "            LIMIT 50\n",
    "'''\n",
    "cur.execute(query) # Выполняем запрос\n",
    "result = cur.fetchall() # Извлекаем все строки результата\n",
    "df_12 = pd.DataFrame(\n",
    "    result, columns=[\n",
    "        \"id_работодателя\",\n",
    "        \"Название_работодателя\",\n",
    "        \"Количество_регионов\"]) # Создаем DataFrame из результата \n",
    "cur.close() # Закрываем курсор\n",
    "df_12"
   ]
  },
  {
   "cell_type": "markdown",
   "id": "90e0d4c2",
   "metadata": {
    "id": "1EIvX3HasH4F"
   },
   "source": [
    "**Ответ:**\n",
    "\n",
    "Максимльное значение вакансий в одном регионе = 181"
   ]
  },
  {
   "cell_type": "markdown",
   "id": "f6211d69",
   "metadata": {},
   "source": [
    "###### Дополнительно"
   ]
  },
  {
   "cell_type": "markdown",
   "id": "452fd979",
   "metadata": {},
   "source": [
    "###### <center>Визуализация \"Количество регионов с вакансиями у 50 работодателей\""
   ]
  },
  {
   "cell_type": "code",
   "execution_count": 26,
   "id": "d51f4e72",
   "metadata": {},
   "outputs": [
    {
     "data": {
      "image/jpeg": "[encoded data removed]",
      "text/plain": [
       "<IPython.core.display.Image object>"
      ]
     },
     "execution_count": 26,
     "metadata": {},
     "output_type": "execute_result"
    }
   ],
   "source": [
    "# Создаем столбчатую диаграмму с использованием библиотеки Plotly  \n",
    "fig = px.bar(df_12[::-1], y='Название_работодателя', x='Количество_регионов')  \n",
    "  \n",
    "# Добавляем линию медианы  \n",
    "median = df_12['Количество_регионов'].median()\n",
    "fig.add_shape(  \n",
    "    type=\"line\",  \n",
    "    x0=median, y0=-0.5, x1=median, y1=len(df_12['Название_работодателя'])-0.5,  \n",
    "    line=dict(color=\"red\", width=2, dash=\"dash\"),  \n",
    "    name=\"Медиана\"  \n",
    ")\n",
    "# Добавляем аннотацию с числовым значением медианы\n",
    "fig.add_annotation(  \n",
    "    x=median, y=len(df_12['Название_работодателя'])-0.5,  \n",
    "    text=\"Медиана: {}\".format(median),  \n",
    "    showarrow=True,  \n",
    "    arrowhead=3,  \n",
    "    ax=250,  \n",
    "    ay=100,\n",
    "    font=dict(size=15)\n",
    ")  \n",
    "# Параметры вывода диаграммы\n",
    "fig.update_layout(  \n",
    "    title=\"Количество регионов с вакансиями у 50 работодателей\",  \n",
    "    title_x=0.5,  \n",
    "    width=1000,  \n",
    "    height=800,  \n",
    "    xaxis_title=\"Количество работодателей\",  \n",
    "    yaxis_title=\"Регионы\",  \n",
    "    legend=dict(x=0, orientation=\"h\"),  \n",
    "    showlegend=True,  \n",
    "    margin=dict(l=0, r=0, t=50, b=0)   \n",
    ")  \n",
    "#fig.show()\n",
    "\n",
    "fig.write_image('Plotly/figure_1.jpg') # Сохраняем график в файл    \n",
    "Image(data='Plotly/figure_1.jpg') # Отображаем график  "
   ]
  },
  {
   "cell_type": "markdown",
   "id": "de24ffc0",
   "metadata": {},
   "source": [
    "##### **Вывод:**\n",
    "\n",
    "* Лидеры по количеству регионов с размещенными вакансиями: Яндекс, Ростелеком, Спецремонт.\n",
    "* Большая часть работодателей размещают вакансии в диапазоне от 1 до 50 регионов."
   ]
  },
  {
   "cell_type": "markdown",
   "id": "73a1a050",
   "metadata": {},
   "source": [
    "# 5.4"
   ]
  },
  {
   "cell_type": "markdown",
   "id": "eab2206d-d95b-468b-8e5f-34381abf0ce7",
   "metadata": {
    "id": "eab2206d-d95b-468b-8e5f-34381abf0ce7"
   },
   "source": [
    "4. Напишите запрос для подсчёта количества работодателей, у которых не указана сфера деятельности. "
   ]
  },
  {
   "cell_type": "code",
   "execution_count": 27,
   "id": "e120bb20",
   "metadata": {},
   "outputs": [
    {
     "data": {
      "text/html": [
       "<div>\n",
       "<style scoped>\n",
       "    .dataframe tbody tr th:only-of-type {\n",
       "        vertical-align: middle;\n",
       "    }\n",
       "\n",
       "    .dataframe tbody tr th {\n",
       "        vertical-align: top;\n",
       "    }\n",
       "\n",
       "    .dataframe thead th {\n",
       "        text-align: right;\n",
       "    }\n",
       "</style>\n",
       "<table border=\"1\" class=\"dataframe\">\n",
       "  <thead>\n",
       "    <tr style=\"text-align: right;\">\n",
       "      <th></th>\n",
       "      <th>id_Сферы_деятельности</th>\n",
       "      <th>Количество_работадателей</th>\n",
       "    </tr>\n",
       "  </thead>\n",
       "  <tbody>\n",
       "    <tr>\n",
       "      <th>0</th>\n",
       "      <td>None</td>\n",
       "      <td>8419</td>\n",
       "    </tr>\n",
       "  </tbody>\n",
       "</table>\n",
       "</div>"
      ],
      "text/plain": [
       "  id_Сферы_деятельности  Количество_работадателей\n",
       "0                  None                      8419"
      ]
     },
     "execution_count": 27,
     "metadata": {},
     "output_type": "execute_result"
    }
   ],
   "source": [
    "# текст запроса\n",
    "cur = connection.cursor() # Создаем курсор для выполнения SQL-запроса\n",
    "\n",
    "# Считаем количество работодателей, у которых не указана сфера деятельности\n",
    "query = f'''SELECT\n",
    "                ei.industry_id AS id_Сферы_деятельности,\n",
    "                COUNT(DISTINCT e.id) AS Количество_работадателей\n",
    "            FROM EMPLOYERS e\n",
    "                LEFT JOIN EMPLOYERS_INDUSTRIES ei ON e.id = ei.employer_id\n",
    "                WHERE ei.industry_id IS NULL\n",
    "                GROUP BY ei.industry_id           \n",
    "'''\n",
    "cur.execute(query) # Выполняем запрос\n",
    "result = cur.fetchall() # Извлекаем все строки результата\n",
    "df_13 = pd.DataFrame(\n",
    "    result, columns=[\"id_Сферы_деятельности\", \"Количество_работадателей\"]\n",
    "                    ) # Создаем DataFrame из результата \n",
    "cur.close() # Закрываем курсор\n",
    "df_13"
   ]
  },
  {
   "cell_type": "markdown",
   "id": "4cded4e0",
   "metadata": {
    "id": "Dp_yCx6ysQSu"
   },
   "source": [
    "**Ответ:**\n",
    "\n",
    "Количества работодателей, у которых не указана сфера деятельности = 8419"
   ]
  },
  {
   "cell_type": "markdown",
   "id": "f382e069",
   "metadata": {},
   "source": [
    "# 5.5"
   ]
  },
  {
   "cell_type": "markdown",
   "id": "0112af31-f6b0-4e3b-82ab-71296e752e5e",
   "metadata": {
    "id": "0112af31-f6b0-4e3b-82ab-71296e752e5e"
   },
   "source": [
    "5. Напишите запрос, чтобы узнать название компании, находящейся на третьем месте в алфавитном списке (по названию) компаний, у которых указано четыре сферы деятельности. "
   ]
  },
  {
   "cell_type": "code",
   "execution_count": 28,
   "id": "29413e63",
   "metadata": {
    "id": "973b0cfc-a972-470a-8b4a-68744ef220c4"
   },
   "outputs": [
    {
     "data": {
      "text/html": [
       "<div>\n",
       "<style scoped>\n",
       "    .dataframe tbody tr th:only-of-type {\n",
       "        vertical-align: middle;\n",
       "    }\n",
       "\n",
       "    .dataframe tbody tr th {\n",
       "        vertical-align: top;\n",
       "    }\n",
       "\n",
       "    .dataframe thead th {\n",
       "        text-align: right;\n",
       "    }\n",
       "</style>\n",
       "<table border=\"1\" class=\"dataframe\">\n",
       "  <thead>\n",
       "    <tr style=\"text-align: right;\">\n",
       "      <th></th>\n",
       "      <th>Название_компании</th>\n",
       "      <th>Количество_сфер_деятельности</th>\n",
       "    </tr>\n",
       "  </thead>\n",
       "  <tbody>\n",
       "    <tr>\n",
       "      <th>0</th>\n",
       "      <td>2ГИС</td>\n",
       "      <td>4</td>\n",
       "    </tr>\n",
       "  </tbody>\n",
       "</table>\n",
       "</div>"
      ],
      "text/plain": [
       "  Название_компании  Количество_сфер_деятельности\n",
       "0              2ГИС                             4"
      ]
     },
     "execution_count": 28,
     "metadata": {},
     "output_type": "execute_result"
    }
   ],
   "source": [
    "# текст запроса\n",
    "cur = connection.cursor() # Создаем курсор для выполнения SQL-запроса\n",
    "\n",
    "# Запрос\n",
    "query = f'''SELECT\n",
    "                e.name AS Название_компании,\n",
    "                COUNT(ei.industry_id) AS Количество_сфер_деятельности\n",
    "            FROM employers e\n",
    "                JOIN employers_industries ei ON e.id = ei.employer_id\n",
    "                GROUP BY e.name\n",
    "                HAVING COUNT(ei.industry_id) = 4\n",
    "                ORDER BY e.name ASC\n",
    "                OFFSET 2 LIMIT 1\n",
    "'''\n",
    "cur.execute(query) # Выполняем запрос\n",
    "result = cur.fetchall() # Извлекаем все строки результата\n",
    "df_14 = pd.DataFrame(\n",
    "    result, columns=[\n",
    "        \"Название_компании\",\n",
    "        \"Количество_сфер_деятельности\"]) # Создаем DataFrame из результата \n",
    "cur.close() # Закрываем курсор\n",
    "df_14"
   ]
  },
  {
   "cell_type": "markdown",
   "id": "1abcafb8",
   "metadata": {
    "id": "xsPtpp8EsaED"
   },
   "source": [
    "**Ответ:**\n",
    "\n",
    "Компания находящаяся на третьем месте в алфавитном списке, с четырьмя сферами деятельности: 2ГИС."
   ]
  },
  {
   "cell_type": "markdown",
   "id": "e5309529",
   "metadata": {},
   "source": [
    "# 5.6"
   ]
  },
  {
   "cell_type": "markdown",
   "id": "3bfcfdaf-755d-4d2b-8ed8-326201dc07ab",
   "metadata": {
    "id": "3bfcfdaf-755d-4d2b-8ed8-326201dc07ab"
   },
   "source": [
    "6. С помощью запроса выясните, у какого количества работодателей в качестве сферы деятельности указана Разработка программного обеспечения.\n"
   ]
  },
  {
   "cell_type": "code",
   "execution_count": 29,
   "id": "ad3f270f-2991-47eb-929b-e8f88a55b0d1",
   "metadata": {
    "id": "ad3f270f-2991-47eb-929b-e8f88a55b0d1"
   },
   "outputs": [
    {
     "data": {
      "text/html": [
       "<div>\n",
       "<style scoped>\n",
       "    .dataframe tbody tr th:only-of-type {\n",
       "        vertical-align: middle;\n",
       "    }\n",
       "\n",
       "    .dataframe tbody tr th {\n",
       "        vertical-align: top;\n",
       "    }\n",
       "\n",
       "    .dataframe thead th {\n",
       "        text-align: right;\n",
       "    }\n",
       "</style>\n",
       "<table border=\"1\" class=\"dataframe\">\n",
       "  <thead>\n",
       "    <tr style=\"text-align: right;\">\n",
       "      <th></th>\n",
       "      <th>Количество_работодателей</th>\n",
       "    </tr>\n",
       "  </thead>\n",
       "  <tbody>\n",
       "    <tr>\n",
       "      <th>0</th>\n",
       "      <td>3553</td>\n",
       "    </tr>\n",
       "  </tbody>\n",
       "</table>\n",
       "</div>"
      ],
      "text/plain": [
       "   Количество_работодателей\n",
       "0                      3553"
      ]
     },
     "execution_count": 29,
     "metadata": {},
     "output_type": "execute_result"
    }
   ],
   "source": [
    "# текст запроса\n",
    "cur = connection.cursor() # Создаем курсор для выполнения SQL-запроса\n",
    "\n",
    "# Запрос\n",
    "query = f'''SELECT\n",
    "                COUNT(e.id) as Количество_работодателей\n",
    "            FROM employers e\n",
    "            JOIN employers_industries ei ON e.id = ei.employer_id\n",
    "            JOIN industries i ON i.id = ei.industry_id\n",
    "            WHERE i.name = 'Разработка программного обеспечения'\n",
    "'''\n",
    "cur.execute(query) # Выполняем запрос\n",
    "result = cur.fetchall() # Извлекаем все строки результата\n",
    "df_15 = pd.DataFrame(\n",
    "    result, columns=[\"Количество_работодателей\"]) # Создаем DataFrame из результата \n",
    "cur.close() # Закрываем курсор\n",
    "df_15"
   ]
  },
  {
   "cell_type": "markdown",
   "id": "8e202b24",
   "metadata": {
    "id": "H72qxWM0shPR"
   },
   "source": [
    "**Ответ:**\n",
    "\n",
    "Сфера деятельности: «Разработка программного обеспечения» указана у 3553 компаний."
   ]
  },
  {
   "cell_type": "markdown",
   "id": "62fd88f6",
   "metadata": {},
   "source": [
    "# 5.7"
   ]
  },
  {
   "cell_type": "markdown",
   "id": "7b02bb86-0546-40fb-94a4-242f050a5c57",
   "metadata": {
    "id": "7b02bb86-0546-40fb-94a4-242f050a5c57"
   },
   "source": [
    "7. Для компании «Яндекс» выведите список регионов-миллионников, в которых представлены вакансии компании, вместе с количеством вакансий в этих регионах. Также добавьте строку Total с общим количеством вакансий компании. Результат отсортируйте по возрастанию количества.\n",
    "\n",
    "Список городов-милионников надо взять [отсюда](https://ru.wikipedia.org/wiki/%D0%93%D0%BE%D1%80%D0%BE%D0%B4%D0%B0-%D0%BC%D0%B8%D0%BB%D0%BB%D0%B8%D0%BE%D0%BD%D0%B5%D1%80%D1%8B_%D0%A0%D0%BE%D1%81%D1%81%D0%B8%D0%B8). \n",
    "\n",
    "Если возникнут трудности с этим задание посмотрите материалы модуля  PYTHON-17. Как получать данные из веб-источников и API. "
   ]
  },
  {
   "cell_type": "code",
   "execution_count": 30,
   "id": "4e53f268",
   "metadata": {},
   "outputs": [
    {
     "data": {
      "text/html": [
       "<div>\n",
       "<style scoped>\n",
       "    .dataframe tbody tr th:only-of-type {\n",
       "        vertical-align: middle;\n",
       "    }\n",
       "\n",
       "    .dataframe tbody tr th {\n",
       "        vertical-align: top;\n",
       "    }\n",
       "\n",
       "    .dataframe thead th {\n",
       "        text-align: right;\n",
       "    }\n",
       "</style>\n",
       "<table border=\"1\" class=\"dataframe\">\n",
       "  <thead>\n",
       "    <tr style=\"text-align: right;\">\n",
       "      <th></th>\n",
       "      <th>№</th>\n",
       "      <th>Город</th>\n",
       "      <th>Население, тыс. чел. (на 1 января 2023 года)</th>\n",
       "      <th>Население, тыс. чел. (итоги переписи 2021 года)[5]</th>\n",
       "      <th>Прирост относительно переписи-2010</th>\n",
       "      <th>Население, тыс. чел.(итоги переписи 2010 года)[6]</th>\n",
       "    </tr>\n",
       "  </thead>\n",
       "  <tbody>\n",
       "    <tr>\n",
       "      <th>0</th>\n",
       "      <td>1</td>\n",
       "      <td>Москва</td>\n",
       "      <td>13 098</td>\n",
       "      <td>13 010</td>\n",
       "      <td>13,1 %</td>\n",
       "      <td>11 504</td>\n",
       "    </tr>\n",
       "    <tr>\n",
       "      <th>1</th>\n",
       "      <td>2</td>\n",
       "      <td>Санкт-Петербург</td>\n",
       "      <td>5 598</td>\n",
       "      <td>5 602</td>\n",
       "      <td>14,8 %</td>\n",
       "      <td>4 880</td>\n",
       "    </tr>\n",
       "    <tr>\n",
       "      <th>2</th>\n",
       "      <td>3</td>\n",
       "      <td>Новосибирск</td>\n",
       "      <td>1 635</td>\n",
       "      <td>1 634</td>\n",
       "      <td>10,9 %</td>\n",
       "      <td>1 474</td>\n",
       "    </tr>\n",
       "    <tr>\n",
       "      <th>3</th>\n",
       "      <td>4</td>\n",
       "      <td>Екатеринбург</td>\n",
       "      <td>1 539</td>\n",
       "      <td>1 544</td>\n",
       "      <td>14,4 %</td>\n",
       "      <td>1 350</td>\n",
       "    </tr>\n",
       "    <tr>\n",
       "      <th>4</th>\n",
       "      <td>5</td>\n",
       "      <td>Казань</td>\n",
       "      <td>1 315</td>\n",
       "      <td>1 309</td>\n",
       "      <td>14,4 %</td>\n",
       "      <td>1 144</td>\n",
       "    </tr>\n",
       "    <tr>\n",
       "      <th>5</th>\n",
       "      <td>6</td>\n",
       "      <td>Нижний Новгород</td>\n",
       "      <td>1 213</td>\n",
       "      <td>1 226</td>\n",
       "      <td>NaN</td>\n",
       "      <td>1 251</td>\n",
       "    </tr>\n",
       "    <tr>\n",
       "      <th>6</th>\n",
       "      <td>7</td>\n",
       "      <td>Красноярск</td>\n",
       "      <td>1 197</td>\n",
       "      <td>1 188</td>\n",
       "      <td>21,6 %</td>\n",
       "      <td>977</td>\n",
       "    </tr>\n",
       "    <tr>\n",
       "      <th>7</th>\n",
       "      <td>8</td>\n",
       "      <td>Челябинск</td>\n",
       "      <td>1 183</td>\n",
       "      <td>1 190</td>\n",
       "      <td>5,3 %</td>\n",
       "      <td>1 130</td>\n",
       "    </tr>\n",
       "    <tr>\n",
       "      <th>8</th>\n",
       "      <td>9</td>\n",
       "      <td>Самара</td>\n",
       "      <td>1 164</td>\n",
       "      <td>1 173</td>\n",
       "      <td>0,3 %</td>\n",
       "      <td>1 169</td>\n",
       "    </tr>\n",
       "    <tr>\n",
       "      <th>9</th>\n",
       "      <td>10</td>\n",
       "      <td>Уфа</td>\n",
       "      <td>1 158</td>\n",
       "      <td>1 145</td>\n",
       "      <td>7,8 %</td>\n",
       "      <td>1 062</td>\n",
       "    </tr>\n",
       "    <tr>\n",
       "      <th>10</th>\n",
       "      <td>11</td>\n",
       "      <td>Ростов-на-Дону</td>\n",
       "      <td>1 136</td>\n",
       "      <td>1 142</td>\n",
       "      <td>4,9 %</td>\n",
       "      <td>1 089</td>\n",
       "    </tr>\n",
       "    <tr>\n",
       "      <th>11</th>\n",
       "      <td>12</td>\n",
       "      <td>Краснодар</td>\n",
       "      <td>1 121</td>\n",
       "      <td>1 099</td>\n",
       "      <td>43,8 %</td>\n",
       "      <td>764</td>\n",
       "    </tr>\n",
       "    <tr>\n",
       "      <th>12</th>\n",
       "      <td>13</td>\n",
       "      <td>Омск</td>\n",
       "      <td>1 111</td>\n",
       "      <td>1 126</td>\n",
       "      <td>NaN</td>\n",
       "      <td>1 166</td>\n",
       "    </tr>\n",
       "    <tr>\n",
       "      <th>13</th>\n",
       "      <td>14</td>\n",
       "      <td>Воронеж</td>\n",
       "      <td>1 052</td>\n",
       "      <td>1 058</td>\n",
       "      <td>18,9 %</td>\n",
       "      <td>890</td>\n",
       "    </tr>\n",
       "    <tr>\n",
       "      <th>14</th>\n",
       "      <td>15</td>\n",
       "      <td>Пермь</td>\n",
       "      <td>1 027</td>\n",
       "      <td>1 034</td>\n",
       "      <td>4,3 %</td>\n",
       "      <td>991</td>\n",
       "    </tr>\n",
       "    <tr>\n",
       "      <th>15</th>\n",
       "      <td>16</td>\n",
       "      <td>Волгоград</td>\n",
       "      <td>1 026</td>\n",
       "      <td>1 028</td>\n",
       "      <td>0,7 %</td>\n",
       "      <td>1 021</td>\n",
       "    </tr>\n",
       "  </tbody>\n",
       "</table>\n",
       "</div>"
      ],
      "text/plain": [
       "     №            Город Население, тыс. чел. (на 1 января 2023 года)  \\\n",
       "0    1           Москва                                       13 098   \n",
       "1    2  Санкт-Петербург                                        5 598   \n",
       "2    3      Новосибирск                                        1 635   \n",
       "3    4     Екатеринбург                                        1 539   \n",
       "4    5           Казань                                        1 315   \n",
       "5    6  Нижний Новгород                                        1 213   \n",
       "6    7       Красноярск                                        1 197   \n",
       "7    8        Челябинск                                        1 183   \n",
       "8    9           Самара                                        1 164   \n",
       "9   10              Уфа                                        1 158   \n",
       "10  11   Ростов-на-Дону                                        1 136   \n",
       "11  12        Краснодар                                        1 121   \n",
       "12  13             Омск                                        1 111   \n",
       "13  14          Воронеж                                        1 052   \n",
       "14  15            Пермь                                        1 027   \n",
       "15  16        Волгоград                                        1 026   \n",
       "\n",
       "   Население, тыс. чел. (итоги переписи 2021 года)[5]  \\\n",
       "0                                              13 010   \n",
       "1                                               5 602   \n",
       "2                                               1 634   \n",
       "3                                               1 544   \n",
       "4                                               1 309   \n",
       "5                                               1 226   \n",
       "6                                               1 188   \n",
       "7                                               1 190   \n",
       "8                                               1 173   \n",
       "9                                               1 145   \n",
       "10                                              1 142   \n",
       "11                                              1 099   \n",
       "12                                              1 126   \n",
       "13                                              1 058   \n",
       "14                                              1 034   \n",
       "15                                              1 028   \n",
       "\n",
       "   Прирост относительно переписи-2010  \\\n",
       "0                              13,1 %   \n",
       "1                              14,8 %   \n",
       "2                              10,9 %   \n",
       "3                              14,4 %   \n",
       "4                              14,4 %   \n",
       "5                                 NaN   \n",
       "6                              21,6 %   \n",
       "7                               5,3 %   \n",
       "8                               0,3 %   \n",
       "9                               7,8 %   \n",
       "10                              4,9 %   \n",
       "11                             43,8 %   \n",
       "12                                NaN   \n",
       "13                             18,9 %   \n",
       "14                              4,3 %   \n",
       "15                              0,7 %   \n",
       "\n",
       "   Население, тыс. чел.(итоги переписи 2010 года)[6]  \n",
       "0                                             11 504  \n",
       "1                                              4 880  \n",
       "2                                              1 474  \n",
       "3                                              1 350  \n",
       "4                                              1 144  \n",
       "5                                              1 251  \n",
       "6                                                977  \n",
       "7                                              1 130  \n",
       "8                                              1 169  \n",
       "9                                              1 062  \n",
       "10                                             1 089  \n",
       "11                                               764  \n",
       "12                                             1 166  \n",
       "13                                               890  \n",
       "14                                               991  \n",
       "15                                             1 021  "
      ]
     },
     "execution_count": 30,
     "metadata": {},
     "output_type": "execute_result"
    }
   ],
   "source": [
    "# Получаем список городов-милионников\n",
    "url = 'https://ru.wikipedia.org/wiki/Города-миллионеры_России' \n",
    "response = requests.get(url) # Запрос к веб-странице\n",
    "html_text = response.content.decode('utf-8') # Получение содержимого страницы в виде текста\n",
    "tables = pd.read_html(BytesIO(html_text.encode())) # Чтение таблицы из текста\n",
    "\n",
    "city_df = tables[1] # Выбираем таблицу с индексом 1 и сохраняем в DataFrame\n",
    "city_df"
   ]
  },
  {
   "cell_type": "code",
   "execution_count": 31,
   "id": "5a0e32a4-e68a-4365-8a39-2fe24c542c36",
   "metadata": {
    "id": "5a0e32a4-e68a-4365-8a39-2fe24c542c36"
   },
   "outputs": [
    {
     "data": {
      "text/html": [
       "<div>\n",
       "<style scoped>\n",
       "    .dataframe tbody tr th:only-of-type {\n",
       "        vertical-align: middle;\n",
       "    }\n",
       "\n",
       "    .dataframe tbody tr th {\n",
       "        vertical-align: top;\n",
       "    }\n",
       "\n",
       "    .dataframe thead th {\n",
       "        text-align: right;\n",
       "    }\n",
       "</style>\n",
       "<table border=\"1\" class=\"dataframe\">\n",
       "  <thead>\n",
       "    <tr style=\"text-align: right;\">\n",
       "      <th></th>\n",
       "      <th>Название_города</th>\n",
       "      <th>Количество_вакансий</th>\n",
       "    </tr>\n",
       "  </thead>\n",
       "  <tbody>\n",
       "    <tr>\n",
       "      <th>0</th>\n",
       "      <td>Total</td>\n",
       "      <td>485</td>\n",
       "    </tr>\n",
       "    <tr>\n",
       "      <th>1</th>\n",
       "      <td>Омск</td>\n",
       "      <td>21</td>\n",
       "    </tr>\n",
       "    <tr>\n",
       "      <th>2</th>\n",
       "      <td>Челябинск</td>\n",
       "      <td>22</td>\n",
       "    </tr>\n",
       "    <tr>\n",
       "      <th>3</th>\n",
       "      <td>Красноярск</td>\n",
       "      <td>23</td>\n",
       "    </tr>\n",
       "    <tr>\n",
       "      <th>4</th>\n",
       "      <td>Волгоград</td>\n",
       "      <td>24</td>\n",
       "    </tr>\n",
       "    <tr>\n",
       "      <th>5</th>\n",
       "      <td>Пермь</td>\n",
       "      <td>25</td>\n",
       "    </tr>\n",
       "    <tr>\n",
       "      <th>6</th>\n",
       "      <td>Казань</td>\n",
       "      <td>25</td>\n",
       "    </tr>\n",
       "    <tr>\n",
       "      <th>7</th>\n",
       "      <td>Ростов-на-Дону</td>\n",
       "      <td>25</td>\n",
       "    </tr>\n",
       "    <tr>\n",
       "      <th>8</th>\n",
       "      <td>Уфа</td>\n",
       "      <td>26</td>\n",
       "    </tr>\n",
       "    <tr>\n",
       "      <th>9</th>\n",
       "      <td>Самара</td>\n",
       "      <td>26</td>\n",
       "    </tr>\n",
       "    <tr>\n",
       "      <th>10</th>\n",
       "      <td>Краснодар</td>\n",
       "      <td>30</td>\n",
       "    </tr>\n",
       "    <tr>\n",
       "      <th>11</th>\n",
       "      <td>Воронеж</td>\n",
       "      <td>32</td>\n",
       "    </tr>\n",
       "    <tr>\n",
       "      <th>12</th>\n",
       "      <td>Новосибирск</td>\n",
       "      <td>35</td>\n",
       "    </tr>\n",
       "    <tr>\n",
       "      <th>13</th>\n",
       "      <td>Нижний Новгород</td>\n",
       "      <td>36</td>\n",
       "    </tr>\n",
       "    <tr>\n",
       "      <th>14</th>\n",
       "      <td>Екатеринбург</td>\n",
       "      <td>39</td>\n",
       "    </tr>\n",
       "    <tr>\n",
       "      <th>15</th>\n",
       "      <td>Санкт-Петербург</td>\n",
       "      <td>42</td>\n",
       "    </tr>\n",
       "    <tr>\n",
       "      <th>16</th>\n",
       "      <td>Москва</td>\n",
       "      <td>54</td>\n",
       "    </tr>\n",
       "  </tbody>\n",
       "</table>\n",
       "</div>"
      ],
      "text/plain": [
       "    Название_города  Количество_вакансий\n",
       "0             Total                  485\n",
       "1              Омск                   21\n",
       "2         Челябинск                   22\n",
       "3        Красноярск                   23\n",
       "4         Волгоград                   24\n",
       "5             Пермь                   25\n",
       "6            Казань                   25\n",
       "7    Ростов-на-Дону                   25\n",
       "8               Уфа                   26\n",
       "9            Самара                   26\n",
       "10        Краснодар                   30\n",
       "11          Воронеж                   32\n",
       "12      Новосибирск                   35\n",
       "13  Нижний Новгород                   36\n",
       "14     Екатеринбург                   39\n",
       "15  Санкт-Петербург                   42\n",
       "16           Москва                   54"
      ]
     },
     "execution_count": 31,
     "metadata": {},
     "output_type": "execute_result"
    }
   ],
   "source": [
    "# текст запроса\n",
    "city_tuple = tuple(city_df['Город'].to_list()) # Добавляем столбец с городами в картеж\n",
    "cur = connection.cursor() # Создаем курсор для выполнения SQL-запроса\n",
    "\n",
    "# Запрос\n",
    "query = f'''(SELECT\n",
    "                a.name AS Название_города,\n",
    "                COUNT(v.id) AS Количество_вакансий\n",
    "            FROM vacancies v\n",
    "                JOIN areas a ON a.id = v.area_id\n",
    "                JOIN employers e ON e.id = v.employer_id\n",
    "                WHERE e.name = 'Яндекс' /*Выбираем из выборки только Яндекс*/\n",
    "                AND a.name IN {city_tuple} /*Проверяем совпадение с названиями городов указанных в кортеже city_tuple*/\n",
    "                GROUP BY a.name\n",
    "                ORDER BY COUNT(v.id) ASC\n",
    "                )\n",
    "            UNION ALL /*Соединяем таблици по вертикали*/\n",
    "            (SELECT\n",
    "                'Total', /*Создаем строку с общим количеством вакансий*/\n",
    "                COUNT(*)\n",
    "            FROM vacancies v\n",
    "                JOIN employers e ON e.id = v.employer_id\n",
    "                JOIN areas a ON a.id = v.area_id\n",
    "                 WHERE e.name = 'Яндекс' AND a.name IN {city_tuple}\n",
    "                )\n",
    "'''\n",
    "cur.execute(query) # Выполняем запрос  \n",
    "result = cur.fetchall() # Извлекаем все строки результата\n",
    "  \n",
    "# Проверяем наличие результатов  \n",
    "if result:  \n",
    "    df_16 = pd.DataFrame(result, columns=[\"Название_города\", \"Количество_вакансий\"]\n",
    "                        ) # Создаем DataFrame из результата   \n",
    "else:  \n",
    "    df_16 = pd.DataFrame(columns=[\"Название_города\", \"Количество_вакансий\"]\n",
    "                        ) # Создаем пустой DataFrame \n",
    "cur.close() # Закрываем курсор\n",
    "df_16"
   ]
  },
  {
   "cell_type": "markdown",
   "id": "f5566a2a",
   "metadata": {
    "id": "ttPhiO1rsvPq"
   },
   "source": [
    "**Ответ:**\n",
    "\n",
    "Компания Яндекс размещает вакансии в 16 городах-миллионниках, общее количество вакансий = 485."
   ]
  },
  {
   "cell_type": "markdown",
   "id": "d5b23120",
   "metadata": {},
   "source": [
    "###### <center>Визуализация \"Регионы присутствия компании Яндекс\""
   ]
  },
  {
   "cell_type": "code",
   "execution_count": 32,
   "id": "5bdf9465",
   "metadata": {},
   "outputs": [
    {
     "data": {
      "image/jpeg": "[encoded data removed]",
      "text/plain": [
       "<IPython.core.display.Image object>"
      ]
     },
     "execution_count": 32,
     "metadata": {},
     "output_type": "execute_result"
    }
   ],
   "source": [
    "# Создаем столбчатую диаграмму с использованием библиотеки Plotly  \n",
    "fig = px.bar(df_16[1:], y='Название_города', x='Количество_вакансий')  \n",
    "  \n",
    "# Добавляем линию медианы  \n",
    "median = df_16['Количество_вакансий'].median()\n",
    "fig.add_shape(  \n",
    "    type=\"line\",  \n",
    "    x0=median, y0=-0.5, x1=median, y1=len(df_16['Название_города'])-0.5,  \n",
    "    line=dict(color=\"red\", width=2, dash=\"dash\"),  \n",
    "    name=\"Медиана\"  \n",
    ")\n",
    "# Добавляем аннотацию с числовым значением медианы\n",
    "fig.add_annotation(  \n",
    "    x=median, y=len(df_16['Название_города'])-0.5,  \n",
    "    text=\"Медиана: {}\".format(median),  \n",
    "    showarrow=True,  \n",
    "    arrowhead=3,  \n",
    "    ax=100,  \n",
    "    ay=20,\n",
    "    font=dict(size=15)\n",
    ")  \n",
    "# Параметры вывода диаграммы\n",
    "fig.update_layout(  \n",
    "    title=\"Диаграмма регионов присутствия компании Яндекс\",  \n",
    "    title_x=0.5,  \n",
    "    width=1000,  \n",
    "    height=800,  \n",
    "    xaxis_title=\"Количество вакансий\",  \n",
    "    yaxis_title=\"Регионы\",  \n",
    "    legend=dict(x=0, orientation=\"h\"),  \n",
    "    showlegend=True,  \n",
    "    margin=dict(l=0, r=0, t=50, b=0)   \n",
    ")  \n",
    "#fig.show()\n",
    "\n",
    "fig.write_image('Plotly/figure_1.jpg') # Сохраняем график в файл    \n",
    "Image(data='Plotly/figure_1.jpg') # Отображаем график  "
   ]
  },
  {
   "cell_type": "markdown",
   "id": "04966e40-3bc3-4dc8-9ba2-e80580ce3abc",
   "metadata": {
    "id": "04966e40-3bc3-4dc8-9ba2-e80580ce3abc"
   },
   "source": [
    "***"
   ]
  },
  {
   "cell_type": "markdown",
   "id": "24efa388",
   "metadata": {
    "id": "aGGyER-yt4SR"
   },
   "source": [
    "### <center>Выводы по анализу работодателей\n",
    "\n",
    "В результате анализа работодателей в рамках проекта, были получены следующие результаты:\n",
    "\n",
    "* ндекс и Газпром нефть находятся на первом и пятом месте соответственно по количеству вакансий. Эти компании предлагают значительное количество возможностей для соискателей.\n",
    "    \n",
    "\n",
    "* В таких регионах как Россия, Казахстан, Московская область, Краснодарский край и Беларусь нет вакансий, но в России наибольшее количество работодателей без вакансий (410 компаний).\n",
    "    \n",
    "\n",
    "* Максимальное количество вакансий в одном регионе у компании Яндекс и составляет 181.\n",
    "\n",
    "    \n",
    "* У 8419 работодателей не указана сфера деятельности.\n",
    "\n",
    "    \n",
    "* Компания, находящаяся на третьем месте в алфавитном списке компаний с четырьмя сферами деятельности, - 2ГИС.\n",
    "\n",
    "    \n",
    "* 3553 компании указали сферу деятельности \"Разработка программного обеспечения\".\n",
    "\n",
    "    \n",
    "* Компания Яндекс размещает вакансии в 16 городах-миллионниках, общее количество вакансий - 485.\n",
    "\n",
    "    \n",
    "**Обобщая результаты анализа работодателей, можно сделать вывод**, что Яндекс и Газпром нефть предлагают большое количество вакансий. Некоторые регионы не имеют вакансий, но в них присутствуют работодатели. Множество работодателей не указали сферу деятельности. Компания Яндекс представлена в нескольких городах-миллионниках с значительным количеством вакансий. Эти результаты могут быть полезны для соискателей, позволяя им выбирать работодателей, которые предлагают наибольшее количество вакансий и представлены в предпочитаемых регионах."
   ]
  },
  {
   "cell_type": "markdown",
   "id": "b1ef156a-efcb-49ce-bb23-90763e7f35b2",
   "metadata": {
    "id": "b1ef156a-efcb-49ce-bb23-90763e7f35b2",
    "tags": []
   },
   "source": [
    "# Юнит 6. Предметный анализ"
   ]
  },
  {
   "cell_type": "markdown",
   "id": "60d5e75f",
   "metadata": {},
   "source": [
    "# 6.1"
   ]
  },
  {
   "cell_type": "markdown",
   "id": "b9cd50a0-992d-4988-8463-2b2b1c4629b4",
   "metadata": {
    "id": "b9cd50a0-992d-4988-8463-2b2b1c4629b4"
   },
   "source": [
    "1. Сколько вакансий имеет отношение к данным?\n",
    "\n",
    "Считаем, что вакансия имеет отношение к данным, если в её названии содержатся слова 'data' или 'данн'.\n",
    "\n",
    "*Подсказка: Обратите внимание, что названия вакансий могут быть написаны в любом регистре.* \n"
   ]
  },
  {
   "cell_type": "code",
   "execution_count": 33,
   "id": "54ab0e50-c0f1-47cc-a54b-bc5c8bc363f9",
   "metadata": {
    "id": "54ab0e50-c0f1-47cc-a54b-bc5c8bc363f9"
   },
   "outputs": [
    {
     "data": {
      "text/html": [
       "<div>\n",
       "<style scoped>\n",
       "    .dataframe tbody tr th:only-of-type {\n",
       "        vertical-align: middle;\n",
       "    }\n",
       "\n",
       "    .dataframe tbody tr th {\n",
       "        vertical-align: top;\n",
       "    }\n",
       "\n",
       "    .dataframe thead th {\n",
       "        text-align: right;\n",
       "    }\n",
       "</style>\n",
       "<table border=\"1\" class=\"dataframe\">\n",
       "  <thead>\n",
       "    <tr style=\"text-align: right;\">\n",
       "      <th></th>\n",
       "      <th>Количество_вакансий</th>\n",
       "    </tr>\n",
       "  </thead>\n",
       "  <tbody>\n",
       "    <tr>\n",
       "      <th>0</th>\n",
       "      <td>1771</td>\n",
       "    </tr>\n",
       "  </tbody>\n",
       "</table>\n",
       "</div>"
      ],
      "text/plain": [
       "   Количество_вакансий\n",
       "0                 1771"
      ]
     },
     "execution_count": 33,
     "metadata": {},
     "output_type": "execute_result"
    }
   ],
   "source": [
    "# текст запроса\n",
    "cur = connection.cursor() # Создаем курсор для выполнения SQL-запроса\n",
    "\n",
    "# Запрос\n",
    "query = f'''SELECT\n",
    "                COUNT(name) AS Количество_вакансий\n",
    "            FROM vacancies\n",
    "            WHERE name ILIKE '%data%' \n",
    "            OR name ILIKE '%данн%'/*Проверяем вхождение с любым регистром*/\n",
    "'''\n",
    "cur.execute(query) # Выполняем запрос\n",
    "result = cur.fetchall() # Извлекаем все строки результата\n",
    "df_17 = pd.DataFrame(\n",
    "    result, columns=[\"Количество_вакансий\"]) # Создаем DataFrame из результата \n",
    "cur.close() # Закрываем курсор\n",
    "df_17"
   ]
  },
  {
   "cell_type": "markdown",
   "id": "478c371c",
   "metadata": {
    "id": "9F1meAqsuUjd"
   },
   "source": [
    "**Ответ:**\n",
    "\n",
    "Вакансий имеющих отношение к данным = 1771"
   ]
  },
  {
   "cell_type": "markdown",
   "id": "05d32e22",
   "metadata": {},
   "source": [
    "# 6.2"
   ]
  },
  {
   "cell_type": "markdown",
   "id": "4dea20cb-a36b-474a-a0b9-e08e8e3857a5",
   "metadata": {
    "id": "4dea20cb-a36b-474a-a0b9-e08e8e3857a5"
   },
   "source": [
    "2. Сколько есть подходящих вакансий для начинающего дата-сайентиста? \n",
    "Будем считать вакансиями для дата-сайентистов такие, в названии которых есть хотя бы одно из следующих сочетаний:\n",
    "* 'data scientist'\n",
    "* 'data science'\n",
    "* 'исследователь данных'\n",
    "* 'ML' (здесь не нужно брать вакансии по HTML)\n",
    "* 'machine learning'\n",
    "* 'машинн%обучен%'\n",
    "\n",
    "** В следующих заданиях мы продолжим работать с вакансиями по этому условию.*\n",
    "\n",
    "Считаем вакансиями для специалистов уровня Junior следующие:\n",
    "* в названии есть слово 'junior' *или*\n",
    "* требуемый опыт — Нет опыта *или*\n",
    "* тип трудоустройства — Стажировка.\n",
    " "
   ]
  },
  {
   "cell_type": "code",
   "execution_count": 34,
   "id": "9c61b3c0-bb66-46c9-ae1e-81d3f5752b4a",
   "metadata": {
    "id": "9c61b3c0-bb66-46c9-ae1e-81d3f5752b4a"
   },
   "outputs": [
    {
     "data": {
      "text/html": [
       "<div>\n",
       "<style scoped>\n",
       "    .dataframe tbody tr th:only-of-type {\n",
       "        vertical-align: middle;\n",
       "    }\n",
       "\n",
       "    .dataframe tbody tr th {\n",
       "        vertical-align: top;\n",
       "    }\n",
       "\n",
       "    .dataframe thead th {\n",
       "        text-align: right;\n",
       "    }\n",
       "</style>\n",
       "<table border=\"1\" class=\"dataframe\">\n",
       "  <thead>\n",
       "    <tr style=\"text-align: right;\">\n",
       "      <th></th>\n",
       "      <th>Количество_вакансий</th>\n",
       "    </tr>\n",
       "  </thead>\n",
       "  <tbody>\n",
       "    <tr>\n",
       "      <th>0</th>\n",
       "      <td>51</td>\n",
       "    </tr>\n",
       "  </tbody>\n",
       "</table>\n",
       "</div>"
      ],
      "text/plain": [
       "   Количество_вакансий\n",
       "0                   51"
      ]
     },
     "execution_count": 34,
     "metadata": {},
     "output_type": "execute_result"
    }
   ],
   "source": [
    "# текст запроса\n",
    "cur = connection.cursor() # Создаем курсор для выполнения SQL-запроса\n",
    "\n",
    "# Запрос\n",
    "query = f'''SELECT\n",
    "                COUNT(name) AS Количество_вакансий\n",
    "            FROM vacancies\n",
    "            WHERE (name ILIKE '%data%scientist%' \n",
    "            OR name ILIKE '%data%science%'\n",
    "            OR name ILIKE '%исследователь%данных%'\n",
    "            OR name ILIKE '%ML%' AND name NOT ILIKE '%HTML%'\n",
    "            OR name ILIKE '%machine%learning%'\n",
    "            OR name ILIKE'%машинн%обучен%')\n",
    "            AND (name ILIKE '%junior%'\n",
    "            OR experience = 'Нет опыта'\n",
    "            OR employment = 'Стажировка')\n",
    "'''\n",
    "cur.execute(query) # Выполняем запрос\n",
    "result = cur.fetchall() # Извлекаем все строки результата\n",
    "df_18 = pd.DataFrame(\n",
    "    result, columns=[\"Количество_вакансий\"]) # Создаем DataFrame из результата \n",
    "cur.close() # Закрываем курсор\n",
    "df_18"
   ]
  },
  {
   "cell_type": "markdown",
   "id": "e902759e",
   "metadata": {
    "id": "ZNM-LLYuu1dj"
   },
   "source": [
    "**Ответ:**\n",
    "\n",
    "Подходящих вакансий для начинающего Data Science = 51"
   ]
  },
  {
   "cell_type": "markdown",
   "id": "f4b1c49c",
   "metadata": {},
   "source": [
    "# 6.3"
   ]
  },
  {
   "cell_type": "markdown",
   "id": "eedceb80-c5ca-480e-b27a-278dfb8b4438",
   "metadata": {
    "id": "eedceb80-c5ca-480e-b27a-278dfb8b4438"
   },
   "source": [
    "3. Сколько есть вакансий для DS, в которых в качестве ключевого навыка указан SQL или Postgres?\n",
    "\n",
    "** Критерии для отнесения вакансии к DS указаны в предыдущем задании.*"
   ]
  },
  {
   "cell_type": "code",
   "execution_count": 35,
   "id": "69621713-0cc5-4f1b-a1d7-bb144fa6148c",
   "metadata": {
    "id": "69621713-0cc5-4f1b-a1d7-bb144fa6148c"
   },
   "outputs": [
    {
     "data": {
      "text/html": [
       "<div>\n",
       "<style scoped>\n",
       "    .dataframe tbody tr th:only-of-type {\n",
       "        vertical-align: middle;\n",
       "    }\n",
       "\n",
       "    .dataframe tbody tr th {\n",
       "        vertical-align: top;\n",
       "    }\n",
       "\n",
       "    .dataframe thead th {\n",
       "        text-align: right;\n",
       "    }\n",
       "</style>\n",
       "<table border=\"1\" class=\"dataframe\">\n",
       "  <thead>\n",
       "    <tr style=\"text-align: right;\">\n",
       "      <th></th>\n",
       "      <th>Количество_вакансий</th>\n",
       "    </tr>\n",
       "  </thead>\n",
       "  <tbody>\n",
       "    <tr>\n",
       "      <th>0</th>\n",
       "      <td>229</td>\n",
       "    </tr>\n",
       "  </tbody>\n",
       "</table>\n",
       "</div>"
      ],
      "text/plain": [
       "   Количество_вакансий\n",
       "0                  229"
      ]
     },
     "execution_count": 35,
     "metadata": {},
     "output_type": "execute_result"
    }
   ],
   "source": [
    "# текст запроса\n",
    "cur = connection.cursor() # Создаем курсор для выполнения SQL-запроса\n",
    "\n",
    "# Запрос\n",
    "query = f'''SELECT\n",
    "                COUNT(name) AS Количество_вакансий\n",
    "            FROM vacancies\n",
    "            WHERE (name ILIKE '%data%scientist%'\n",
    "            OR name ILIKE '%data%science%'\n",
    "            OR name ILIKE '%исследователь%данных%'\n",
    "            OR name ILIKE '%ML%' AND name NOT ILIKE '%HTML%'\n",
    "            OR name ILIKE '%machine%learning%'\n",
    "            OR name ILIKE '%машинн%обучен%')\n",
    "            AND (key_skills ILIKE '%SQL%' OR key_skills ILIKE '%postgres%')\n",
    "'''\n",
    "cur.execute(query) # Выполняем запрос\n",
    "result = cur.fetchall() # Извлекаем все строки результата\n",
    "df_19 = pd.DataFrame(\n",
    "    result, columns=[\"Количество_вакансий\"]) # Создаем DataFrame из результата \n",
    "cur.close() # Закрываем курсор\n",
    "df_19"
   ]
  },
  {
   "cell_type": "markdown",
   "id": "9c319c8f",
   "metadata": {
    "id": "alA8WEAAvGdf"
   },
   "source": [
    "**Ответ:**\n",
    "\n",
    "Вакансий для DS, в которых в качестве ключевого навыка указан SQL или postgres = 201."
   ]
  },
  {
   "cell_type": "markdown",
   "id": "fc0c269f",
   "metadata": {},
   "source": [
    "# 6.4"
   ]
  },
  {
   "cell_type": "markdown",
   "id": "1be1e9c6-37cf-4a5f-bfeb-04cab799dc80",
   "metadata": {
    "id": "1be1e9c6-37cf-4a5f-bfeb-04cab799dc80"
   },
   "source": [
    "4. Проверьте, насколько популярен Python в требованиях работодателей к DS.Для этого вычислите количество вакансий, в которых в качестве ключевого навыка указан Python.\n",
    "\n",
    "** Это можно сделать помощью запроса, аналогичного предыдущему.*"
   ]
  },
  {
   "cell_type": "code",
   "execution_count": 36,
   "id": "0036a355-9ccf-4564-8b01-73d8194297e7",
   "metadata": {
    "id": "0036a355-9ccf-4564-8b01-73d8194297e7"
   },
   "outputs": [
    {
     "data": {
      "text/html": [
       "<div>\n",
       "<style scoped>\n",
       "    .dataframe tbody tr th:only-of-type {\n",
       "        vertical-align: middle;\n",
       "    }\n",
       "\n",
       "    .dataframe tbody tr th {\n",
       "        vertical-align: top;\n",
       "    }\n",
       "\n",
       "    .dataframe thead th {\n",
       "        text-align: right;\n",
       "    }\n",
       "</style>\n",
       "<table border=\"1\" class=\"dataframe\">\n",
       "  <thead>\n",
       "    <tr style=\"text-align: right;\">\n",
       "      <th></th>\n",
       "      <th>Количество_вакансий</th>\n",
       "    </tr>\n",
       "  </thead>\n",
       "  <tbody>\n",
       "    <tr>\n",
       "      <th>0</th>\n",
       "      <td>351</td>\n",
       "    </tr>\n",
       "  </tbody>\n",
       "</table>\n",
       "</div>"
      ],
      "text/plain": [
       "   Количество_вакансий\n",
       "0                  351"
      ]
     },
     "execution_count": 36,
     "metadata": {},
     "output_type": "execute_result"
    }
   ],
   "source": [
    "# текст запроса\n",
    "cur = connection.cursor() # Создаем курсор для выполнения SQL-запроса\n",
    "\n",
    "# Запрос\n",
    "query = f'''SELECT\n",
    "                COUNT(name) AS Количество_вакансий\n",
    "            FROM vacancies\n",
    "            WHERE (name ILIKE '%data%scientist%'\n",
    "            OR name ILIKE '%data%science%'\n",
    "            OR name ILIKE '%исследователь%данных%'\n",
    "            OR name LIKE '%ML%' AND name NOT ILIKE '%HTML%'\n",
    "            OR name ILIKE '%machine%learning%'\n",
    "            OR name ILIKE '%машинн%обучен%')\n",
    "            AND key_skills ILIKE '%Python%'\n",
    "'''\n",
    "cur.execute(query) # Выполняем запрос\n",
    "result = cur.fetchall() # Извлекаем все строки результата\n",
    "df_20 = pd.DataFrame(\n",
    "    result, columns=[\"Количество_вакансий\"]) # Создаем DataFrame из результата \n",
    "cur.close() # Закрываем курсор\n",
    "df_20"
   ]
  },
  {
   "cell_type": "markdown",
   "id": "41747328",
   "metadata": {
    "id": "1i-5WyucvQ6v"
   },
   "source": [
    "**Ответ:** \n",
    "\n",
    "В качестве ключевого навыка Python указоно в 351 вакансии."
   ]
  },
  {
   "cell_type": "markdown",
   "id": "41589b60",
   "metadata": {},
   "source": [
    "# 6.5"
   ]
  },
  {
   "cell_type": "markdown",
   "id": "ec3c8db7-fa21-4a41-a994-1af63742a642",
   "metadata": {
    "id": "ec3c8db7-fa21-4a41-a994-1af63742a642"
   },
   "source": [
    "5. Сколько ключевых навыков в среднем указывают в вакансиях для DS?\n",
    "Ответ округлите до двух знаков после точки-разделителя."
   ]
  },
  {
   "cell_type": "code",
   "execution_count": 37,
   "id": "5217c26d",
   "metadata": {},
   "outputs": [
    {
     "data": {
      "text/html": [
       "<div>\n",
       "<style scoped>\n",
       "    .dataframe tbody tr th:only-of-type {\n",
       "        vertical-align: middle;\n",
       "    }\n",
       "\n",
       "    .dataframe tbody tr th {\n",
       "        vertical-align: top;\n",
       "    }\n",
       "\n",
       "    .dataframe thead th {\n",
       "        text-align: right;\n",
       "    }\n",
       "</style>\n",
       "<table border=\"1\" class=\"dataframe\">\n",
       "  <thead>\n",
       "    <tr style=\"text-align: right;\">\n",
       "      <th></th>\n",
       "      <th>Количество_ключевых_навыков</th>\n",
       "    </tr>\n",
       "  </thead>\n",
       "  <tbody>\n",
       "    <tr>\n",
       "      <th>0</th>\n",
       "      <td>6.41</td>\n",
       "    </tr>\n",
       "  </tbody>\n",
       "</table>\n",
       "</div>"
      ],
      "text/plain": [
       "  Количество_ключевых_навыков\n",
       "0                        6.41"
      ]
     },
     "execution_count": 37,
     "metadata": {},
     "output_type": "execute_result"
    }
   ],
   "source": [
    "# текст запроса\n",
    "cur = connection.cursor() # Создаем курсор для выполнения SQL-запроса\n",
    "\n",
    "# Запрос\n",
    "query = f'''SELECT \n",
    "                ROUND(AVG(LENGTH(key_skills) - LENGTH(REPLACE(key_skills, CHR(9), '' )))+1, 2) AS Количество_ключевых_навыков\n",
    "            FROM vacancies\n",
    "            WHERE (name ILIKE '%data%scientist%'\n",
    "            OR name ILIKE '%data%science%'\n",
    "            OR name ILIKE '%исследователь%данных%'\n",
    "            OR name LIKE '%ML%' AND name NOT ILIKE '%HTML%'\n",
    "            OR name ILIKE '%machine%learning%'\n",
    "            OR name ILIKE '%машинн%обучен%')\n",
    "            AND (key_skills IS NOT NULL)\n",
    "'''\n",
    "cur.execute(query) # Выполняем запрос\n",
    "result = cur.fetchall() # Извлекаем все строки результата\n",
    "df_21 = pd.DataFrame(\n",
    "    result, columns=[\"Количество_ключевых_навыков\"]) # Создаем DataFrame из результата \n",
    "cur.close() # Закрываем курсор\n",
    "df_21"
   ]
  },
  {
   "cell_type": "markdown",
   "id": "14d65391",
   "metadata": {
    "id": "a3V24Tvmviqk"
   },
   "source": [
    "**Ответ:**\n",
    "\n",
    "В среднем в вакансиях для DS указывают 6.41 ключевых навыков."
   ]
  },
  {
   "cell_type": "markdown",
   "id": "7ac53c91",
   "metadata": {},
   "source": [
    "# 6.6"
   ]
  },
  {
   "cell_type": "markdown",
   "id": "1041c17a-ca8f-4543-a0ca-32778914fb00",
   "metadata": {
    "id": "1041c17a-ca8f-4543-a0ca-32778914fb00"
   },
   "source": [
    "6. Напишите запрос, позволяющий вычислить, какую зарплату для DS в **среднем** указывают для каждого типа требуемого опыта (уникальное значение из поля *experience*). \n",
    "\n",
    "При решении задачи примите во внимание следующее:\n",
    "1. Рассматриваем только вакансии, у которых заполнено хотя бы одно из двух полей с зарплатой.\n",
    "2. Если заполнены оба поля с зарплатой, то считаем зарплату по каждой вакансии как сумму двух полей, делённую на 2. Если заполнено только одно из полей, то его и считаем зарплатой по вакансии.\n",
    "3. Если в расчётах участвует null, в результате он тоже даст null (посмотрите, что возвращает запрос select 1 + null). Чтобы избежать этой ситуацию, мы воспользуемся функцией [coalesce](https://postgrespro.ru/docs/postgresql/9.5/functions-conditional#functions-coalesce-nvl-ifnull), которая заменит null на значение, которое мы передадим. Например, посмотрите, что возвращает запрос `select 1 + coalesce(null, 0)`\n",
    "\n",
    "Выясните, на какую зарплату в среднем может рассчитывать дата-сайентист с опытом работы от 3 до 6 лет. Результат округлите до целого числа. "
   ]
  },
  {
   "cell_type": "code",
   "execution_count": 38,
   "id": "32bf0ced",
   "metadata": {},
   "outputs": [
    {
     "data": {
      "text/html": [
       "<div>\n",
       "<style scoped>\n",
       "    .dataframe tbody tr th:only-of-type {\n",
       "        vertical-align: middle;\n",
       "    }\n",
       "\n",
       "    .dataframe tbody tr th {\n",
       "        vertical-align: top;\n",
       "    }\n",
       "\n",
       "    .dataframe thead th {\n",
       "        text-align: right;\n",
       "    }\n",
       "</style>\n",
       "<table border=\"1\" class=\"dataframe\">\n",
       "  <thead>\n",
       "    <tr style=\"text-align: right;\">\n",
       "      <th></th>\n",
       "      <th>Тип_требуемого_опыта</th>\n",
       "      <th>Средняя_зарплата</th>\n",
       "    </tr>\n",
       "  </thead>\n",
       "  <tbody>\n",
       "    <tr>\n",
       "      <th>0</th>\n",
       "      <td>От 3 до 6 лет</td>\n",
       "      <td>243115</td>\n",
       "    </tr>\n",
       "  </tbody>\n",
       "</table>\n",
       "</div>"
      ],
      "text/plain": [
       "  Тип_требуемого_опыта Средняя_зарплата\n",
       "0        От 3 до 6 лет           243115"
      ]
     },
     "execution_count": 38,
     "metadata": {},
     "output_type": "execute_result"
    }
   ],
   "source": [
    "# текст запроса\n",
    "cur = connection.cursor() # Создаем курсор для выполнения SQL-запроса\n",
    "\n",
    "# Запрос\n",
    "query = f'''SELECT\n",
    "                experience AS Тип_требуемого_опыта,\n",
    "                ROUND(AVG(COALESCE(((salary_from + salary_to)/2), salary_from, salary_to))) AS Средняя_зарплата\n",
    "            FROM vacancies\n",
    "            WHERE (name ILIKE '%data%scientist%'\n",
    "            OR name ILIKE '%data%science%'\n",
    "            OR name ILIKE '%исследователь%данных%'\n",
    "            OR name LIKE '%ML%' AND name NOT ILIKE '%HTML%'\n",
    "            OR name ILIKE '%machine%learning%'\n",
    "            OR name ILIKE '%машинн%обучен%')\n",
    "            AND (salary_from IS NOT NULL OR salary_to IS NOT NULL)\n",
    "            AND (experience ILIKE '%от 3 до 6 лет%')\n",
    "            GROUP BY experience\n",
    "'''\n",
    "cur.execute(query) # Выполняем запрос\n",
    "result = cur.fetchall() # Извлекаем все строки результата\n",
    "df_22 = pd.DataFrame(\n",
    "    result, columns=[\"Тип_требуемого_опыта\", \"Средняя_зарплата\"]) # Создаем DataFrame из результата \n",
    "cur.close() # Закрываем курсор\n",
    "df_22"
   ]
  },
  {
   "cell_type": "markdown",
   "id": "b7290ac6",
   "metadata": {
    "id": "aRIJ0mZEwU1_"
   },
   "source": [
    "**Ответ:**\n",
    "\n",
    "Дата-сайентист с опытом работы от 3 до 6 лет в среднем может рассчитывать на зарплату в 243115 руб."
   ]
  },
  {
   "cell_type": "markdown",
   "id": "d8fb995a",
   "metadata": {},
   "source": [
    "###### Дополнительно\n"
   ]
  },
  {
   "cell_type": "markdown",
   "id": "8ef3c6d3",
   "metadata": {},
   "source": [
    "###### <center>Визуализация \"Соотношение требуемого опыта и средней зарплаты\""
   ]
  },
  {
   "cell_type": "code",
   "execution_count": 39,
   "id": "06542089",
   "metadata": {},
   "outputs": [
    {
     "data": {
      "text/html": [
       "<div>\n",
       "<style scoped>\n",
       "    .dataframe tbody tr th:only-of-type {\n",
       "        vertical-align: middle;\n",
       "    }\n",
       "\n",
       "    .dataframe tbody tr th {\n",
       "        vertical-align: top;\n",
       "    }\n",
       "\n",
       "    .dataframe thead th {\n",
       "        text-align: right;\n",
       "    }\n",
       "</style>\n",
       "<table border=\"1\" class=\"dataframe\">\n",
       "  <thead>\n",
       "    <tr style=\"text-align: right;\">\n",
       "      <th></th>\n",
       "      <th>Требуемый_опыт</th>\n",
       "      <th>Средняя_зарплата</th>\n",
       "    </tr>\n",
       "  </thead>\n",
       "  <tbody>\n",
       "    <tr>\n",
       "      <th>0</th>\n",
       "      <td>Нет опыта</td>\n",
       "      <td>74643</td>\n",
       "    </tr>\n",
       "    <tr>\n",
       "      <th>1</th>\n",
       "      <td>От 1 года до 3 лет</td>\n",
       "      <td>139675</td>\n",
       "    </tr>\n",
       "    <tr>\n",
       "      <th>2</th>\n",
       "      <td>От 3 до 6 лет</td>\n",
       "      <td>243115</td>\n",
       "    </tr>\n",
       "  </tbody>\n",
       "</table>\n",
       "</div>"
      ],
      "text/plain": [
       "       Требуемый_опыт Средняя_зарплата\n",
       "0           Нет опыта            74643\n",
       "1  От 1 года до 3 лет           139675\n",
       "2       От 3 до 6 лет           243115"
      ]
     },
     "execution_count": 39,
     "metadata": {},
     "output_type": "execute_result"
    }
   ],
   "source": [
    "# текст запроса\n",
    "cur = connection.cursor() # Создаем курсор для выполнения SQL-запроса\n",
    "\n",
    "# Запрос\n",
    "query = f'''SELECT\n",
    "                experience AS Требуемый_опыт,\n",
    "                ROUND(AVG(COALESCE(((salary_from + salary_to)/2), salary_from, salary_to))) AS Средняя_зарплата\n",
    "            FROM vacancies\n",
    "            WHERE (name ILIKE '%data%scientist%'\n",
    "            OR name ILIKE '%data%science%'\n",
    "            OR name ILIKE '%исследователь%данных%'\n",
    "            OR name LIKE '%ML%' AND name NOT ILIKE '%HTML%'\n",
    "            OR name ILIKE '%machine%learning%'\n",
    "            OR name ILIKE '%машинн%обучен%')\n",
    "            AND (salary_from IS NOT NULL OR salary_to IS NOT NULL)\n",
    "            GROUP BY experience\n",
    "'''\n",
    "cur.execute(query) # Выполняем запрос\n",
    "result = cur.fetchall() # Извлекаем все строки результата\n",
    "df_23 = pd.DataFrame(\n",
    "    result, columns=[\"Требуемый_опыт\", \"Средняя_зарплата\"]) # Создаем DataFrame из результата \n",
    "cur.close() # Закрываем курсор\n",
    "df_23"
   ]
  },
  {
   "cell_type": "code",
   "execution_count": 40,
   "id": "962c80fa",
   "metadata": {},
   "outputs": [
    {
     "data": {
      "image/jpeg": "[encoded data removed]",
      "text/plain": [
       "<IPython.core.display.Image object>"
      ]
     },
     "execution_count": 40,
     "metadata": {},
     "output_type": "execute_result"
    }
   ],
   "source": [
    "# Создаем столбчатую диаграмму\n",
    "\n",
    "fig = px.bar(df_23, x='Требуемый_опыт', y='Средняя_зарплата') \n",
    "\n",
    "fig.update_layout(\n",
    "    title=\"Соотношение требуемого опыта и средней зарплаты\",\n",
    "    title_x = 0.5,\n",
    "    width=1000,\n",
    "    height=800,\n",
    "    xaxis_title=\"Опыт\",\n",
    "    yaxis_title=\"Количество\",\n",
    "    legend=dict(x=0, orientation=\"h\"),\n",
    "    margin=dict(l=0, r=0, t=50, b=0) # Параметры вывода диаграммы\n",
    ")\n",
    "#fig.show()\n",
    "\n",
    "fig.write_image('Plotly/figure_1.jpg')\n",
    "Image(data = 'Plotly/figure_1.jpg')"
   ]
  },
  {
   "cell_type": "markdown",
   "id": "6a7892b4-4113-4746-adce-18aa2844f18e",
   "metadata": {
    "id": "6a7892b4-4113-4746-adce-18aa2844f18e"
   },
   "source": [
    "***"
   ]
  },
  {
   "cell_type": "markdown",
   "id": "05573e55",
   "metadata": {},
   "source": [
    "### <center>Выводы по предметному анализу\n",
    "\n",
    "В результате предметного анализа вакансий, проведенного в рамках проекта, были получены следующие результаты:\n",
    "\n",
    "* Вакансии, имеющие отношение к данным, составляют 1771. Это означает, что в данных вакансиях требуется работа с данными или анализ данных.\n",
    "    \n",
    "\n",
    "* Для начинающего Data Scientist подходят 51 вакансия. Это предоставляет возможности для соискателей, которые только начинают свою карьеру в области Data science.\n",
    "    \n",
    "\n",
    "* Вакансий для Data Scientist, где ключевым навыком указан SQL или Postgres, составляет 201. Знание этих языков запросов является важным требованием для работы с данными в данной области.\n",
    "    \n",
    "\n",
    "* Python является популярным требованием работодателей для должности data scientist. В 351 вакансии указывается Python в качестве ключевого навыка.\n",
    "    \n",
    "\n",
    "* В среднем в вакансиях для Data Scientist указывают 6.41 ключевых навыка. Это свидетельствует о множестве требований и навыков, которые ожидаются от соискателей данной позиции.\n",
    "    \n",
    "\n",
    "* Data Scientist с опытом работы от 3 до 6 лет в среднем может рассчитывать на зарплату в размере 243,115 рублей.\n",
    "    \n",
    "\n",
    "**Обобщая результаты предметного анализа, можно сделать вывод**, что на рынке труда существует значительное количество вакансий, связанных с работой с данными. Для начинающих Data Scientist также имеется некоторое количество подходящих вакансий. Навыки работы с SQL и Python являются востребованными для данной должности. Количество ключевых навыков в вакансиях для Data Scientist достаточно высоко, что требует от соискателей разносторонней подготовки. Зарплата для Data Scientist зависит от опыта работы и может быть значительной для специалистов с опытом от 3 до 6 лет. Эти выводы помогут соискателям лучше понять требования рынка труда в области Data Science и принимать информированные решения относительно своей карьеры.\n"
   ]
  },
  {
   "cell_type": "code",
   "execution_count": 41,
   "id": "d39d4d66",
   "metadata": {},
   "outputs": [],
   "source": [
    "# Закрываем соединение\n",
    "connection.close()"
   ]
  },
  {
   "cell_type": "markdown",
   "id": "c0ED6fh7wiBT",
   "metadata": {
    "id": "c0ED6fh7wiBT"
   },
   "source": [
    "# Общий вывод по проекту"
   ]
  },
  {
   "cell_type": "code",
   "execution_count": 42,
   "id": "h9B3BL-wwj18",
   "metadata": {
    "id": "h9B3BL-wwj18"
   },
   "outputs": [],
   "source": [
    "# подведем итог исследования, обобщите выводы\n",
    "# здесь можно (это будет плюсом) провести дополнительные исследования данных, \n",
    "# сделать прогнозы, продумать варианты продолжения исследования"
   ]
  },
  {
   "cell_type": "markdown",
   "id": "cc3b53a2",
   "metadata": {},
   "source": [
    "В ходе проведения проекта по анализу вакансий из HeadHunter, были проведены исследования в разделах: предварительный анализ данных, детальный анализ вакансий, анализ работодателей, предметный анализ. Обобщая результаты, можно сделать следующие выводы:\n",
    "\n",
    "* Раздел предварительный анализ данных, позволил получить общую информацию о количестве вакансий, работодателей, регионов и сфер деятельности. Основные данные: общее количество вакансий в базе - 49,197, работодателей - 23,501, регионов - 1,362, сфер деятельности - 294. Эти цифры отражают масштаб и разнообразие предложений на рынке труда в области Data Science.\n",
    "\n",
    "\n",
    "* В разделе детальный анализ вакансий, было выявлено, что наибольшее количество вакансий на позицию Data Scientist представлено в Москве, Санкт-Петербурге, Минске, Новосибирске и Алматы. Было также выявлено, что около половины вакансий содержат информацию о зарплате, а самыми популярными сочетаниями типа рабочего графика и типа трудоустройства являются \"Удаленная работа - Полная занятость\" и \"Полный день - Полная занятость\". Эти данные могут быть полезны для соискателей, помогая им ориентироваться на рынке труда и принимать информированные решения.\n",
    "\n",
    "\n",
    "* В разделе анализ работодателей, было выявлено, что компании Яндекс и Газпром нефть предлагают наибольшее количество вакансий на позицию Data Scientist. Также было обнаружено, что в некоторых регионах нет вакансий, но присутствуют работодатели, и у некоторых работодателей не указана сфера деятельности. Эти результаты позволяют соискателям более точно выбирать работодателей и регионы для трудоустройства.\n",
    "\n",
    "\n",
    "* В разделе предметный анализ, были получены цифры о количестве вакансий, относящихся к данным, подходящих вакансий для начинающих дата-сайентистов, вакансий, требующих навыков SQL или Postgres, вакансий, требующих знания Python, а также среднего количества ключевых навыков в вакансиях для Data Scientist. Было также вычислено среднее значение зарплаты для Data Scientist с опытом работы от 3 до 6 лет. Эти данные позволяют соискателям понять требования рынка труда и ожидаемую зарплату для разных уровней опыта и навыков.\n",
    "\n",
    "\n",
    "**Обобщая результаты исследования, можно сделать вывод**, что на рынке труда в области Data Science существует значительное количество вакансий с разнообразными требованиями и возможностями. Популярные города для данной должности включают Москву, Санкт-Петербург, Минск, Новосибирск и Алматы. Знание SQL, Python и других ключевых навыков является важным для соискателей, а опыт работы и требования к зарплате различаются в зависимости от уровня опыта. Эти результаты могут помочь соискателям лучше понять требования рынка труда, ориентироваться при поиске работы и принимать информированные решения относительно своей карьеры в области Data Science."
   ]
  },
  {
   "cell_type": "markdown",
   "id": "1ba842be",
   "metadata": {},
   "source": [
    "### Идеи для дополнительных исследований"
   ]
  },
  {
   "cell_type": "markdown",
   "id": "85222c40",
   "metadata": {},
   "source": [
    "На основе проведенного анализа данных о вакансиях из HeadHunter, можно предложить следующие идеи для дополнительных исследований, прогнозов и возможных вариантов продолжения исследования:\n",
    "\n",
    "* Прогнозирование роста спроса на специалистов data science: Можно проанализировать данные за предыдущие годы и использовать методы прогнозирования, такие как временные ряды или модели машинного обучения, для определения тенденций и предсказания будущего спроса на специалистов data science. Это может помочь соискателям планировать свою карьеру и определить наиболее перспективные направления.\n",
    "\n",
    "\n",
    "* Анализ требуемых навыков и их изменения: Исследование изменений в требуемых навыках для должности data scientist со временем может помочь соискателям следить за актуальными тенденциями и понимать, какие навыки стоит развивать. Можно провести анализ данных за разные периоды времени и выявить изменения в требованиях к навыкам и инструментам.\n",
    "\n",
    "\n",
    "* Кластерный анализ вакансий и работодателей: Используя методы кластерного анализа, можно выделить группы вакансий и работодателей на основе их характеристик и требований. Это позволит лучше понять разнообразие предложений на рынке труда, выявить особенности каждой группы и определить наиболее востребованные профили специалистов и типы компаний.\n",
    "\n",
    "\n",
    "* Анализ рыночной конкуренции: Исследование конкурентной среды на рынке труда в области data science может помочь соискателям лучше понять ситуацию на рынке и определить свои конкурентные преимущества. Можно провести анализ количества соискателей на одну вакансию, конкуренцию между компаниями и другие факторы, влияющие на конкуренцию на рынке труда.\n",
    "\n",
    "\n",
    "* Исследование связей между требованиями и зарплатой: Можно провести анализ зависимости между требуемыми навыками, опытом работы и уровнем зарплаты для специалистов. Это позволит определить, какие навыки и опыт наиболее ценны для работодателей и как они отражаются на уровне зарплаты. Такой анализ может помочь соискателям лучше планировать свою карьеру и оценивать свою рыночную стоимость.\n",
    "\n",
    "\n",
    "* Анализ сфер деятельности и их влияние на требования и зарплату: Исследование сфер деятельности, в которых требуются специалисты data science, и их влияние на требования к навыкам и уровень зарплаты может помочь соискателям определить наиболее перспективные и интересные сферы для развития своей карьеры.\n",
    "\n",
    "\n",
    "* Варианты продолжения исследования могут включать дальнейший анализ данных с использованием более сложных моделей машинного обучения для прогнозирования или глубинного анализа, а также углубленное изучение конкретных аспектов рынка труда в области анализа данных, таких как специализация, требования к образованию и сертификации, региональные особенности и др."
   ]
  },
  {
   "cell_type": "code",
   "execution_count": null,
   "id": "873f1872",
   "metadata": {},
   "outputs": [],
   "source": [
    "# End"
   ]
  }
 ],
 "metadata": {
  "colab": {
   "collapsed_sections": [
    "8d62a9f3-f64e-4fe7-bdac-c4dffa16155e"
   ],
   "provenance": []
  },
  "kernelspec": {
   "display_name": "Python 3 (ipykernel)",
   "language": "python",
   "name": "python3"
  },
  "language_info": {
   "codemirror_mode": {
    "name": "ipython",
    "version": 3
   },
   "file_extension": ".py",
   "mimetype": "text/x-python",
   "name": "python",
   "nbconvert_exporter": "python",
   "pygments_lexer": "ipython3",
   "version": "3.9.12"
  }
 },
 "nbformat": 4,
 "nbformat_minor": 5
}
